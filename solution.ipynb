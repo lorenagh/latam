{
 "cells": [
  {
   "cell_type": "code",
   "execution_count": 3,
   "id": "c5e5a271",
   "metadata": {},
   "outputs": [
    {
     "name": "stderr",
     "output_type": "stream",
     "text": [
      "/home/lorena/anaconda3/lib/python3.7/site-packages/IPython/core/interactiveshell.py:3437: DtypeWarning: Columns (1,6) have mixed types.Specify dtype option on import or set low_memory=False.\n",
      "  exec(code_obj, self.user_global_ns, self.user_ns)\n"
     ]
    },
    {
     "data": {
      "text/html": [
       "<div>\n",
       "<style scoped>\n",
       "    .dataframe tbody tr th:only-of-type {\n",
       "        vertical-align: middle;\n",
       "    }\n",
       "\n",
       "    .dataframe tbody tr th {\n",
       "        vertical-align: top;\n",
       "    }\n",
       "\n",
       "    .dataframe thead th {\n",
       "        text-align: right;\n",
       "    }\n",
       "</style>\n",
       "<table border=\"1\" class=\"dataframe\">\n",
       "  <thead>\n",
       "    <tr style=\"text-align: right;\">\n",
       "      <th></th>\n",
       "      <th>Fecha-I</th>\n",
       "      <th>Vlo-I</th>\n",
       "      <th>Ori-I</th>\n",
       "      <th>Des-I</th>\n",
       "      <th>Emp-I</th>\n",
       "      <th>Fecha-O</th>\n",
       "      <th>Vlo-O</th>\n",
       "      <th>Ori-O</th>\n",
       "      <th>Des-O</th>\n",
       "      <th>Emp-O</th>\n",
       "      <th>DIA</th>\n",
       "      <th>MES</th>\n",
       "      <th>AÑO</th>\n",
       "      <th>DIANOM</th>\n",
       "      <th>TIPOVUELO</th>\n",
       "      <th>OPERA</th>\n",
       "      <th>SIGLAORI</th>\n",
       "      <th>SIGLADES</th>\n",
       "    </tr>\n",
       "  </thead>\n",
       "  <tbody>\n",
       "    <tr>\n",
       "      <th>0</th>\n",
       "      <td>2017-01-01 23:30:00</td>\n",
       "      <td>226</td>\n",
       "      <td>SCEL</td>\n",
       "      <td>KMIA</td>\n",
       "      <td>AAL</td>\n",
       "      <td>2017-01-01 23:33:00</td>\n",
       "      <td>226</td>\n",
       "      <td>SCEL</td>\n",
       "      <td>KMIA</td>\n",
       "      <td>AAL</td>\n",
       "      <td>1</td>\n",
       "      <td>1</td>\n",
       "      <td>2017</td>\n",
       "      <td>Domingo</td>\n",
       "      <td>I</td>\n",
       "      <td>American Airlines</td>\n",
       "      <td>Santiago</td>\n",
       "      <td>Miami</td>\n",
       "    </tr>\n",
       "    <tr>\n",
       "      <th>1</th>\n",
       "      <td>2017-01-02 23:30:00</td>\n",
       "      <td>226</td>\n",
       "      <td>SCEL</td>\n",
       "      <td>KMIA</td>\n",
       "      <td>AAL</td>\n",
       "      <td>2017-01-02 23:39:00</td>\n",
       "      <td>226</td>\n",
       "      <td>SCEL</td>\n",
       "      <td>KMIA</td>\n",
       "      <td>AAL</td>\n",
       "      <td>2</td>\n",
       "      <td>1</td>\n",
       "      <td>2017</td>\n",
       "      <td>Lunes</td>\n",
       "      <td>I</td>\n",
       "      <td>American Airlines</td>\n",
       "      <td>Santiago</td>\n",
       "      <td>Miami</td>\n",
       "    </tr>\n",
       "    <tr>\n",
       "      <th>2</th>\n",
       "      <td>2017-01-03 23:30:00</td>\n",
       "      <td>226</td>\n",
       "      <td>SCEL</td>\n",
       "      <td>KMIA</td>\n",
       "      <td>AAL</td>\n",
       "      <td>2017-01-03 23:39:00</td>\n",
       "      <td>226</td>\n",
       "      <td>SCEL</td>\n",
       "      <td>KMIA</td>\n",
       "      <td>AAL</td>\n",
       "      <td>3</td>\n",
       "      <td>1</td>\n",
       "      <td>2017</td>\n",
       "      <td>Martes</td>\n",
       "      <td>I</td>\n",
       "      <td>American Airlines</td>\n",
       "      <td>Santiago</td>\n",
       "      <td>Miami</td>\n",
       "    </tr>\n",
       "    <tr>\n",
       "      <th>3</th>\n",
       "      <td>2017-01-04 23:30:00</td>\n",
       "      <td>226</td>\n",
       "      <td>SCEL</td>\n",
       "      <td>KMIA</td>\n",
       "      <td>AAL</td>\n",
       "      <td>2017-01-04 23:33:00</td>\n",
       "      <td>226</td>\n",
       "      <td>SCEL</td>\n",
       "      <td>KMIA</td>\n",
       "      <td>AAL</td>\n",
       "      <td>4</td>\n",
       "      <td>1</td>\n",
       "      <td>2017</td>\n",
       "      <td>Miercoles</td>\n",
       "      <td>I</td>\n",
       "      <td>American Airlines</td>\n",
       "      <td>Santiago</td>\n",
       "      <td>Miami</td>\n",
       "    </tr>\n",
       "    <tr>\n",
       "      <th>4</th>\n",
       "      <td>2017-01-05 23:30:00</td>\n",
       "      <td>226</td>\n",
       "      <td>SCEL</td>\n",
       "      <td>KMIA</td>\n",
       "      <td>AAL</td>\n",
       "      <td>2017-01-05 23:28:00</td>\n",
       "      <td>226</td>\n",
       "      <td>SCEL</td>\n",
       "      <td>KMIA</td>\n",
       "      <td>AAL</td>\n",
       "      <td>5</td>\n",
       "      <td>1</td>\n",
       "      <td>2017</td>\n",
       "      <td>Jueves</td>\n",
       "      <td>I</td>\n",
       "      <td>American Airlines</td>\n",
       "      <td>Santiago</td>\n",
       "      <td>Miami</td>\n",
       "    </tr>\n",
       "  </tbody>\n",
       "</table>\n",
       "</div>"
      ],
      "text/plain": [
       "               Fecha-I Vlo-I Ori-I Des-I Emp-I              Fecha-O Vlo-O  \\\n",
       "0  2017-01-01 23:30:00   226  SCEL  KMIA   AAL  2017-01-01 23:33:00   226   \n",
       "1  2017-01-02 23:30:00   226  SCEL  KMIA   AAL  2017-01-02 23:39:00   226   \n",
       "2  2017-01-03 23:30:00   226  SCEL  KMIA   AAL  2017-01-03 23:39:00   226   \n",
       "3  2017-01-04 23:30:00   226  SCEL  KMIA   AAL  2017-01-04 23:33:00   226   \n",
       "4  2017-01-05 23:30:00   226  SCEL  KMIA   AAL  2017-01-05 23:28:00   226   \n",
       "\n",
       "  Ori-O Des-O Emp-O  DIA  MES   AÑO     DIANOM TIPOVUELO              OPERA  \\\n",
       "0  SCEL  KMIA   AAL    1    1  2017    Domingo         I  American Airlines   \n",
       "1  SCEL  KMIA   AAL    2    1  2017      Lunes         I  American Airlines   \n",
       "2  SCEL  KMIA   AAL    3    1  2017     Martes         I  American Airlines   \n",
       "3  SCEL  KMIA   AAL    4    1  2017  Miercoles         I  American Airlines   \n",
       "4  SCEL  KMIA   AAL    5    1  2017     Jueves         I  American Airlines   \n",
       "\n",
       "   SIGLAORI SIGLADES  \n",
       "0  Santiago    Miami  \n",
       "1  Santiago    Miami  \n",
       "2  Santiago    Miami  \n",
       "3  Santiago    Miami  \n",
       "4  Santiago    Miami  "
      ]
     },
     "execution_count": 3,
     "metadata": {},
     "output_type": "execute_result"
    }
   ],
   "source": [
    "import pandas as pd\n",
    "data = pd.read_csv('dataset_SCL.csv')\n",
    "data.head()"
   ]
  },
  {
   "cell_type": "markdown",
   "id": "b66c5efa",
   "metadata": {},
   "source": [
    "#  1) ¿Cómo se distribuyen los datos?"
   ]
  },
  {
   "cell_type": "markdown",
   "id": "1f2ce6e9",
   "metadata": {},
   "source": [
    "## Reconocimiento y limpieza de datos "
   ]
  },
  {
   "cell_type": "code",
   "execution_count": 4,
   "id": "750e6f68",
   "metadata": {},
   "outputs": [
    {
     "name": "stdout",
     "output_type": "stream",
     "text": [
      "<class 'pandas.core.frame.DataFrame'>\n",
      "RangeIndex: 68206 entries, 0 to 68205\n",
      "Data columns (total 18 columns):\n",
      " #   Column     Non-Null Count  Dtype \n",
      "---  ------     --------------  ----- \n",
      " 0   Fecha-I    68206 non-null  object\n",
      " 1   Vlo-I      68206 non-null  object\n",
      " 2   Ori-I      68206 non-null  object\n",
      " 3   Des-I      68206 non-null  object\n",
      " 4   Emp-I      68206 non-null  object\n",
      " 5   Fecha-O    68206 non-null  object\n",
      " 6   Vlo-O      68205 non-null  object\n",
      " 7   Ori-O      68206 non-null  object\n",
      " 8   Des-O      68206 non-null  object\n",
      " 9   Emp-O      68206 non-null  object\n",
      " 10  DIA        68206 non-null  int64 \n",
      " 11  MES        68206 non-null  int64 \n",
      " 12  AÑO        68206 non-null  int64 \n",
      " 13  DIANOM     68206 non-null  object\n",
      " 14  TIPOVUELO  68206 non-null  object\n",
      " 15  OPERA      68206 non-null  object\n",
      " 16  SIGLAORI   68206 non-null  object\n",
      " 17  SIGLADES   68206 non-null  object\n",
      "dtypes: int64(3), object(15)\n",
      "memory usage: 9.4+ MB\n"
     ]
    }
   ],
   "source": [
    "data.info()"
   ]
  },
  {
   "cell_type": "code",
   "execution_count": 5,
   "id": "ae9b2c09",
   "metadata": {},
   "outputs": [
    {
     "data": {
      "text/plain": [
       "array([datetime.date(2017, 1, 1), datetime.date(2017, 1, 2),\n",
       "       datetime.date(2017, 1, 3), datetime.date(2017, 1, 4),\n",
       "       datetime.date(2017, 1, 5), datetime.date(2017, 1, 6),\n",
       "       datetime.date(2017, 1, 7), datetime.date(2017, 1, 8),\n",
       "       datetime.date(2017, 1, 9), datetime.date(2017, 1, 11),\n",
       "       datetime.date(2017, 1, 14), datetime.date(2017, 1, 16),\n",
       "       datetime.date(2017, 1, 18), datetime.date(2017, 1, 21),\n",
       "       datetime.date(2017, 1, 23), datetime.date(2017, 1, 25),\n",
       "       datetime.date(2017, 1, 28), datetime.date(2017, 1, 30),\n",
       "       datetime.date(2017, 1, 10), datetime.date(2017, 1, 12),\n",
       "       datetime.date(2017, 1, 13), datetime.date(2017, 1, 15),\n",
       "       datetime.date(2017, 1, 17), datetime.date(2017, 1, 19),\n",
       "       datetime.date(2017, 1, 22), datetime.date(2017, 1, 24),\n",
       "       datetime.date(2017, 1, 26), datetime.date(2017, 1, 27),\n",
       "       datetime.date(2017, 1, 29), datetime.date(2017, 1, 31),\n",
       "       datetime.date(2017, 1, 20), datetime.date(2017, 2, 4),\n",
       "       datetime.date(2017, 2, 6), datetime.date(2017, 2, 8),\n",
       "       datetime.date(2017, 2, 11), datetime.date(2017, 2, 13),\n",
       "       datetime.date(2017, 2, 15), datetime.date(2017, 2, 20),\n",
       "       datetime.date(2017, 2, 22), datetime.date(2017, 2, 25),\n",
       "       datetime.date(2017, 2, 27), datetime.date(2017, 2, 1),\n",
       "       datetime.date(2017, 2, 2), datetime.date(2017, 2, 3),\n",
       "       datetime.date(2017, 2, 7), datetime.date(2017, 2, 9),\n",
       "       datetime.date(2017, 2, 10), datetime.date(2017, 2, 12),\n",
       "       datetime.date(2017, 2, 14), datetime.date(2017, 2, 16),\n",
       "       datetime.date(2017, 2, 17), datetime.date(2017, 2, 18),\n",
       "       datetime.date(2017, 2, 19), datetime.date(2017, 2, 21),\n",
       "       datetime.date(2017, 2, 23), datetime.date(2017, 2, 24),\n",
       "       datetime.date(2017, 2, 26), datetime.date(2017, 2, 28),\n",
       "       datetime.date(2017, 2, 5), datetime.date(2017, 3, 1),\n",
       "       datetime.date(2017, 3, 4), datetime.date(2017, 3, 6),\n",
       "       datetime.date(2017, 3, 8), datetime.date(2017, 3, 11),\n",
       "       datetime.date(2017, 3, 13), datetime.date(2017, 3, 15),\n",
       "       datetime.date(2017, 3, 18), datetime.date(2017, 3, 20),\n",
       "       datetime.date(2017, 3, 22), datetime.date(2017, 3, 2),\n",
       "       datetime.date(2017, 3, 3), datetime.date(2017, 3, 5),\n",
       "       datetime.date(2017, 3, 7), datetime.date(2017, 3, 9),\n",
       "       datetime.date(2017, 3, 10), datetime.date(2017, 3, 12),\n",
       "       datetime.date(2017, 3, 14), datetime.date(2017, 3, 16),\n",
       "       datetime.date(2017, 3, 17), datetime.date(2017, 3, 19),\n",
       "       datetime.date(2017, 3, 21), datetime.date(2017, 3, 23),\n",
       "       datetime.date(2017, 3, 24), datetime.date(2017, 3, 25),\n",
       "       datetime.date(2017, 3, 26), datetime.date(2017, 3, 27),\n",
       "       datetime.date(2017, 3, 28), datetime.date(2017, 3, 29),\n",
       "       datetime.date(2017, 3, 30), datetime.date(2017, 3, 31),\n",
       "       datetime.date(2017, 4, 1), datetime.date(2017, 4, 2),\n",
       "       datetime.date(2017, 4, 3), datetime.date(2017, 4, 5),\n",
       "       datetime.date(2017, 4, 6), datetime.date(2017, 4, 7),\n",
       "       datetime.date(2017, 4, 8), datetime.date(2017, 4, 9),\n",
       "       datetime.date(2017, 4, 10), datetime.date(2017, 4, 11),\n",
       "       datetime.date(2017, 4, 12), datetime.date(2017, 4, 13),\n",
       "       datetime.date(2017, 4, 14), datetime.date(2017, 4, 15),\n",
       "       datetime.date(2017, 4, 16), datetime.date(2017, 4, 17),\n",
       "       datetime.date(2017, 4, 18), datetime.date(2017, 4, 19),\n",
       "       datetime.date(2017, 4, 20), datetime.date(2017, 4, 21),\n",
       "       datetime.date(2017, 4, 22), datetime.date(2017, 4, 24),\n",
       "       datetime.date(2017, 4, 25), datetime.date(2017, 4, 26),\n",
       "       datetime.date(2017, 4, 27), datetime.date(2017, 4, 29),\n",
       "       datetime.date(2017, 4, 30), datetime.date(2017, 4, 4),\n",
       "       datetime.date(2017, 4, 23), datetime.date(2017, 4, 28),\n",
       "       datetime.date(2017, 5, 1), datetime.date(2017, 5, 2),\n",
       "       datetime.date(2017, 5, 3), datetime.date(2017, 5, 4),\n",
       "       datetime.date(2017, 5, 5), datetime.date(2017, 5, 6),\n",
       "       datetime.date(2017, 5, 7), datetime.date(2017, 5, 8),\n",
       "       datetime.date(2017, 5, 9), datetime.date(2017, 5, 10),\n",
       "       datetime.date(2017, 5, 11), datetime.date(2017, 5, 12),\n",
       "       datetime.date(2017, 5, 13), datetime.date(2017, 5, 14),\n",
       "       datetime.date(2017, 5, 15), datetime.date(2017, 5, 16),\n",
       "       datetime.date(2017, 5, 17), datetime.date(2017, 5, 18),\n",
       "       datetime.date(2017, 5, 19), datetime.date(2017, 5, 20),\n",
       "       datetime.date(2017, 5, 21), datetime.date(2017, 5, 22),\n",
       "       datetime.date(2017, 5, 23), datetime.date(2017, 5, 24),\n",
       "       datetime.date(2017, 5, 25), datetime.date(2017, 5, 26),\n",
       "       datetime.date(2017, 5, 27), datetime.date(2017, 5, 28),\n",
       "       datetime.date(2017, 5, 29), datetime.date(2017, 5, 30),\n",
       "       datetime.date(2017, 5, 31), datetime.date(2017, 6, 1),\n",
       "       datetime.date(2017, 6, 2), datetime.date(2017, 6, 3),\n",
       "       datetime.date(2017, 6, 4), datetime.date(2017, 6, 5),\n",
       "       datetime.date(2017, 6, 6), datetime.date(2017, 6, 7),\n",
       "       datetime.date(2017, 6, 8), datetime.date(2017, 6, 9),\n",
       "       datetime.date(2017, 6, 11), datetime.date(2017, 6, 12),\n",
       "       datetime.date(2017, 6, 13), datetime.date(2017, 6, 14),\n",
       "       datetime.date(2017, 6, 15), datetime.date(2017, 6, 16),\n",
       "       datetime.date(2017, 6, 17), datetime.date(2017, 6, 18),\n",
       "       datetime.date(2017, 6, 20), datetime.date(2017, 6, 21),\n",
       "       datetime.date(2017, 6, 22), datetime.date(2017, 6, 23),\n",
       "       datetime.date(2017, 6, 24), datetime.date(2017, 6, 25),\n",
       "       datetime.date(2017, 6, 26), datetime.date(2017, 6, 27),\n",
       "       datetime.date(2017, 6, 28), datetime.date(2017, 6, 29),\n",
       "       datetime.date(2017, 6, 30), datetime.date(2017, 6, 10),\n",
       "       datetime.date(2017, 6, 19), datetime.date(2017, 7, 1),\n",
       "       datetime.date(2017, 7, 2), datetime.date(2017, 7, 3),\n",
       "       datetime.date(2017, 7, 4), datetime.date(2017, 7, 5),\n",
       "       datetime.date(2017, 7, 6), datetime.date(2017, 7, 7),\n",
       "       datetime.date(2017, 7, 8), datetime.date(2017, 7, 9),\n",
       "       datetime.date(2017, 7, 10), datetime.date(2017, 7, 11),\n",
       "       datetime.date(2017, 7, 12), datetime.date(2017, 7, 13),\n",
       "       datetime.date(2017, 7, 14), datetime.date(2017, 7, 15),\n",
       "       datetime.date(2017, 7, 17), datetime.date(2017, 7, 18),\n",
       "       datetime.date(2017, 7, 19), datetime.date(2017, 7, 20),\n",
       "       datetime.date(2017, 7, 21), datetime.date(2017, 7, 22),\n",
       "       datetime.date(2017, 7, 23), datetime.date(2017, 7, 24),\n",
       "       datetime.date(2017, 7, 25), datetime.date(2017, 7, 26),\n",
       "       datetime.date(2017, 7, 27), datetime.date(2017, 7, 28),\n",
       "       datetime.date(2017, 7, 29), datetime.date(2017, 7, 30),\n",
       "       datetime.date(2017, 7, 31), datetime.date(2017, 7, 16),\n",
       "       datetime.date(2017, 8, 1), datetime.date(2017, 8, 2),\n",
       "       datetime.date(2017, 8, 3), datetime.date(2017, 8, 4),\n",
       "       datetime.date(2017, 8, 5), datetime.date(2017, 8, 6),\n",
       "       datetime.date(2017, 8, 7), datetime.date(2017, 8, 8),\n",
       "       datetime.date(2017, 8, 9), datetime.date(2017, 8, 10),\n",
       "       datetime.date(2017, 8, 11), datetime.date(2017, 8, 12),\n",
       "       datetime.date(2017, 8, 13), datetime.date(2017, 8, 14),\n",
       "       datetime.date(2017, 8, 15), datetime.date(2017, 8, 17),\n",
       "       datetime.date(2017, 8, 18), datetime.date(2017, 8, 19),\n",
       "       datetime.date(2017, 8, 20), datetime.date(2017, 8, 21),\n",
       "       datetime.date(2017, 8, 22), datetime.date(2017, 8, 23),\n",
       "       datetime.date(2017, 8, 24), datetime.date(2017, 8, 25),\n",
       "       datetime.date(2017, 8, 26), datetime.date(2017, 8, 27),\n",
       "       datetime.date(2017, 8, 28), datetime.date(2017, 8, 29),\n",
       "       datetime.date(2017, 8, 30), datetime.date(2017, 8, 31),\n",
       "       datetime.date(2017, 8, 16), datetime.date(2017, 9, 1),\n",
       "       datetime.date(2017, 9, 2), datetime.date(2017, 9, 3),\n",
       "       datetime.date(2017, 9, 4), datetime.date(2017, 9, 5),\n",
       "       datetime.date(2017, 9, 7), datetime.date(2017, 9, 16),\n",
       "       datetime.date(2017, 9, 17), datetime.date(2017, 9, 18),\n",
       "       datetime.date(2017, 9, 19), datetime.date(2017, 9, 20),\n",
       "       datetime.date(2017, 9, 21), datetime.date(2017, 9, 22),\n",
       "       datetime.date(2017, 9, 23), datetime.date(2017, 9, 24),\n",
       "       datetime.date(2017, 9, 25), datetime.date(2017, 9, 26),\n",
       "       datetime.date(2017, 9, 27), datetime.date(2017, 9, 28),\n",
       "       datetime.date(2017, 9, 29), datetime.date(2017, 9, 30),\n",
       "       datetime.date(2017, 9, 6), datetime.date(2017, 9, 8),\n",
       "       datetime.date(2017, 9, 9), datetime.date(2017, 9, 10),\n",
       "       datetime.date(2017, 9, 11), datetime.date(2017, 9, 12),\n",
       "       datetime.date(2017, 9, 13), datetime.date(2017, 9, 14),\n",
       "       datetime.date(2017, 9, 15), datetime.date(2017, 10, 1),\n",
       "       datetime.date(2017, 10, 2), datetime.date(2017, 10, 3),\n",
       "       datetime.date(2017, 10, 4), datetime.date(2017, 10, 5),\n",
       "       datetime.date(2017, 10, 6), datetime.date(2017, 10, 7),\n",
       "       datetime.date(2017, 10, 8), datetime.date(2017, 10, 9),\n",
       "       datetime.date(2017, 10, 10), datetime.date(2017, 10, 11),\n",
       "       datetime.date(2017, 10, 12), datetime.date(2017, 10, 13),\n",
       "       datetime.date(2017, 10, 14), datetime.date(2017, 10, 15),\n",
       "       datetime.date(2017, 10, 16), datetime.date(2017, 10, 17),\n",
       "       datetime.date(2017, 10, 18), datetime.date(2017, 10, 19),\n",
       "       datetime.date(2017, 10, 20), datetime.date(2017, 10, 21),\n",
       "       datetime.date(2017, 10, 22), datetime.date(2017, 10, 23),\n",
       "       datetime.date(2017, 10, 24), datetime.date(2017, 10, 25),\n",
       "       datetime.date(2017, 10, 26), datetime.date(2017, 10, 27),\n",
       "       datetime.date(2017, 10, 28), datetime.date(2017, 10, 29),\n",
       "       datetime.date(2017, 10, 30), datetime.date(2017, 10, 31),\n",
       "       datetime.date(2017, 11, 1), datetime.date(2017, 11, 2),\n",
       "       datetime.date(2017, 11, 3), datetime.date(2017, 11, 4),\n",
       "       datetime.date(2017, 11, 5), datetime.date(2017, 11, 6),\n",
       "       datetime.date(2017, 11, 7), datetime.date(2017, 11, 8),\n",
       "       datetime.date(2017, 11, 9), datetime.date(2017, 11, 10),\n",
       "       datetime.date(2017, 11, 11), datetime.date(2017, 11, 12),\n",
       "       datetime.date(2017, 11, 13), datetime.date(2017, 11, 14),\n",
       "       datetime.date(2017, 11, 15), datetime.date(2017, 11, 16),\n",
       "       datetime.date(2017, 11, 17), datetime.date(2017, 11, 18),\n",
       "       datetime.date(2017, 11, 19), datetime.date(2017, 11, 20),\n",
       "       datetime.date(2017, 11, 21), datetime.date(2017, 11, 22),\n",
       "       datetime.date(2017, 11, 24), datetime.date(2017, 11, 25),\n",
       "       datetime.date(2017, 11, 26), datetime.date(2017, 11, 27),\n",
       "       datetime.date(2017, 11, 28), datetime.date(2017, 11, 29),\n",
       "       datetime.date(2017, 11, 30), datetime.date(2017, 11, 23),\n",
       "       datetime.date(2017, 12, 16), datetime.date(2017, 12, 17),\n",
       "       datetime.date(2017, 12, 18), datetime.date(2017, 12, 20),\n",
       "       datetime.date(2017, 12, 21), datetime.date(2017, 12, 22),\n",
       "       datetime.date(2017, 12, 23), datetime.date(2017, 12, 24),\n",
       "       datetime.date(2017, 12, 25), datetime.date(2017, 12, 27),\n",
       "       datetime.date(2017, 12, 28), datetime.date(2017, 12, 29),\n",
       "       datetime.date(2017, 12, 30), datetime.date(2017, 12, 31),\n",
       "       datetime.date(2017, 12, 1), datetime.date(2017, 12, 2),\n",
       "       datetime.date(2017, 12, 3), datetime.date(2017, 12, 4),\n",
       "       datetime.date(2017, 12, 5), datetime.date(2017, 12, 6),\n",
       "       datetime.date(2017, 12, 7), datetime.date(2017, 12, 8),\n",
       "       datetime.date(2017, 12, 9), datetime.date(2017, 12, 10),\n",
       "       datetime.date(2017, 12, 11), datetime.date(2017, 12, 12),\n",
       "       datetime.date(2017, 12, 13), datetime.date(2017, 12, 14),\n",
       "       datetime.date(2017, 12, 15), datetime.date(2017, 12, 19),\n",
       "       datetime.date(2017, 12, 26)], dtype=object)"
      ]
     },
     "execution_count": 5,
     "metadata": {},
     "output_type": "execute_result"
    }
   ],
   "source": [
    "import pandas as pd\n",
    "data['Fecha-I']=pd.DataFrame(data['Fecha-I'])\n",
    "data['Fecha-I']= pd.to_datetime(data['Fecha-I'])\n",
    "data['Fecha-I'].dt.date.unique()"
   ]
  },
  {
   "cell_type": "code",
   "execution_count": 6,
   "id": "24dfe5c8",
   "metadata": {},
   "outputs": [
    {
     "data": {
      "text/plain": [
       "array([23, 22, 13, 21, 14,  0, 10,  9, 16, 19,  8,  7, 17,  6,  1, 11, 12,\n",
       "       18,  5,  3,  2,  4, 20, 15])"
      ]
     },
     "execution_count": 6,
     "metadata": {},
     "output_type": "execute_result"
    }
   ],
   "source": [
    "data['Fecha-I'].dt.hour.unique()"
   ]
  },
  {
   "cell_type": "code",
   "execution_count": 7,
   "id": "0020d802",
   "metadata": {},
   "outputs": [
    {
     "data": {
      "text/plain": [
       "array(['226', '912', '940', '92', '93', '401', '11', '1011', '1281',\n",
       "       '1283', '1285', '1287', '1289', '1291', '2291', '98', '116', '176',\n",
       "       '240', '295', '689', '250', '112', '118', '174', '249', '276',\n",
       "       '495', '4495', '146', '7661', '7663', '9245', '9268', '9362',\n",
       "       '6830', '702', '624', '28', '846', '709', '741', '8021', '8023',\n",
       "       '8027', '8029', '8069', '8073', '8075', '8099', '8125', '8137',\n",
       "       '8160', '8161', '9601', '9615', '9651', '9653', '9661', '9689',\n",
       "       '9782', '9623', '1', '3', '7', '9', '13', '15', '17', '21', '23',\n",
       "       '25', '41', '43', '51', '53', '55', '61', '71', '73', '75', '81',\n",
       "       '83', '102', '104', '106', '108', '110', '120', '122', '128',\n",
       "       '130', '132', '134', '140', '142', '150', '156', '160', '162',\n",
       "       '164', '166', '170', '172', '180', '182', '184', '186', '188',\n",
       "       '190', '192', '194', '196', '501', '503', '507', '521', '531',\n",
       "       '551', '800', '802', '804', '1083', '14', '31', '35', '37', '57',\n",
       "       '65', '67', '69', '89', '91', '97', '114', '124', '126', '136',\n",
       "       '138', '144', '148', '152', '154', '168', '178', '201', '203',\n",
       "       '207', '209', '211', '213', '215', '217', '219', '221', '231',\n",
       "       '233', '235', '237', '239', '241', '247', '251', '257', '259',\n",
       "       '261', '263', '265', '267', '269', '271', '273', '275', '277',\n",
       "       '279', '281', '283', '285', '287', '289', '291', '293', '297',\n",
       "       '300', '302', '304', '306', '308', '312', '314', '318', '320',\n",
       "       '322', '324', '326', '328', '330', '332', '334', '336', '338',\n",
       "       '340', '342', '344', '346', '348', '350', '366', '374', '380',\n",
       "       '382', '384', '386', '388', '396', '403', '405', '439', '443',\n",
       "       '445', '449', '451', '455', '461', '481', '500', '502', '504',\n",
       "       '510', '530', '532', '534', '546', '572', '574', '576', '582',\n",
       "       '592', '600', '602', '622', '632', '642', '646', '648', '650',\n",
       "       '704', '708', '750', '752', '760', '772', '776', '778', '798',\n",
       "       '801', '833', '841', '843', '845', '849', '900', '902', '906',\n",
       "       '910', '930', '932', '934', '942', '952', '954', '968', '970',\n",
       "       '972', '986', '988', '991', '993', '1320', '1322', '1326', '1334',\n",
       "       '1357', '1359', '1446', '1498', '2632', '2636', '2638', '2640',\n",
       "       '2650', '2702', '4501', '4503', '1003', '1004', '1005', '1302',\n",
       "       '1340', '200', '700', '1704', '33', '59', '95', '243', '634',\n",
       "       '1200', '1202', '1300', '1071', '99', '158', '198', '205', '376',\n",
       "       '378', '404', '406', '410', '414', '430', '432', '434', '438',\n",
       "       '486', '492', '536', '638', '640', '644', '864', '890', '892',\n",
       "       '1122', '1126', '1151', '1363', '1946', '2370', '2372', '2374',\n",
       "       '7811', '7813', '1165', '1301', '1351', '1906', '204', '9625',\n",
       "       '8665', '4950', '45', '100', '523', '1025', '4000', '63', '352',\n",
       "       '354', '452', '460', '636', '674', '888', '895', '897', '1108',\n",
       "       '1124', '1128', '1236', '1248', '2364', '2366', '2378', '2474',\n",
       "       '2478', '1050', '1051', '1052', '1061', '1101', '1102', '1104',\n",
       "       '1130', '1159', '1230', '202', '989P', '3000', '9000', '459',\n",
       "       '483', '1114', '1168', '1238', '1239', '1261', '1107', '1140',\n",
       "       '1167', '1271', '1031', '1700', '940P', '9659', '1551', '1800',\n",
       "       '358', '1103', '1111', '2518', '7959', '400', '402', '2297',\n",
       "       '9244', '9246', '9247', '9261', '9272', '9673', '9956', '9600',\n",
       "       '9629', '9662', '9701', '9955', '5', '77', '553', '316', '368',\n",
       "       '372', '470', '506', '604', '1136', '1158', '1242', '1244', '2368',\n",
       "       '2486', '1105', '1106', '1113', '1115', '1132', '1155', '1166',\n",
       "       '2488', '1400', '1033', '4', '8', '26', '22', '1927', '7721',\n",
       "       '591P', '846A', '8519', '8525', '8541', '8542', '9622', '356',\n",
       "       '1138', '1148', '1041', '6', '32', '50', '52', '86', '88', '9301',\n",
       "       '9303', '47', '60', '1234', '1250', '1241', '1034', '1035', '1043',\n",
       "       '7704', '10', '253', '1502', '8083', '8131', '9851', '27', '543',\n",
       "       '1198', '39', '87', '390', '448', '664', '805', '1054', '1065',\n",
       "       '1116', '1121', '1146', '1154', '1188', '1193', '1218', '1222',\n",
       "       '1224', '1226', '1228', '1235', '1237', '1249', '1260', '1262',\n",
       "       '1264', '1428', '7896', '7899', '1142', '1240', '2600', '30',\n",
       "       '2092', '2093', '3624', '9643', '9461', '9510', '9540', '1104A',\n",
       "       '706', '1088', '1091', '1099', '1134', '1169', '1170', '1195',\n",
       "       '1199', '1243', '1251', '1257', '1277', '1279', '1233', '54',\n",
       "       '1600', '2287', '4118', '9289', '85', '555', '620', '630', '1149',\n",
       "       '1503', '1531', '232', '755', '757', '763', '1117', '1141', '1176',\n",
       "       '1178', '1186', '1191', '1197', '1246', '1247', '1259', '1267',\n",
       "       '1269', '7911', '255', '301', '305', '307'], dtype=object)"
      ]
     },
     "execution_count": 7,
     "metadata": {},
     "output_type": "execute_result"
    }
   ],
   "source": [
    "data['Vlo-I'].unique()\n",
    "data['Vlo-I'] = data['Vlo-I'].astype(str)\n",
    "data['Vlo-I'].unique()"
   ]
  },
  {
   "cell_type": "code",
   "execution_count": 8,
   "id": "fd0a88ed",
   "metadata": {},
   "outputs": [
    {
     "data": {
      "text/plain": [
       "array(['SCEL'], dtype=object)"
      ]
     },
     "execution_count": 8,
     "metadata": {},
     "output_type": "execute_result"
    }
   ],
   "source": [
    "data['Ori-I'].unique()"
   ]
  },
  {
   "cell_type": "code",
   "execution_count": 9,
   "id": "0935e338",
   "metadata": {},
   "outputs": [
    {
     "data": {
      "text/plain": [
       "array(['KMIA', 'KDFW', 'SAEZ', 'CYYZ', 'LFPG', 'MMMX', 'SABE', 'SKBO',\n",
       "       'LIRF', 'EGLL', 'MPTO', 'KATL', 'SBGR', 'SBGL', 'SBFL', 'LEMD',\n",
       "       'SPJC', 'YSSY', 'KIAH', 'SGAS', 'SBFI', 'SCTE', 'SCCI', 'SCNT',\n",
       "       'SCBA', 'SCVD', 'SCQP', 'SCIE', 'SCSE', 'SCAT', 'SCCF', 'SCFA',\n",
       "       'SCDA', 'SCAR', 'SAME', 'SACO', 'SUMU', 'SCPQ', 'SCJO', 'KMCO',\n",
       "       'KJFK', 'SEGU', 'MMUN', 'MDPC', 'KLAX', 'NZAA', 'SCIP', 'SLLP',\n",
       "       'SLVR', 'SBCT', 'SEQM', 'SAZS', 'SAAR', 'SANT', 'YMML', 'SEQU',\n",
       "       'SANU', 'SAZN', 'SPSO', 'SAWH', 'EGYP', 'SULS', 'SLCB', 'SARI'],\n",
       "      dtype=object)"
      ]
     },
     "execution_count": 9,
     "metadata": {},
     "output_type": "execute_result"
    }
   ],
   "source": [
    "data['Des-I'].unique()"
   ]
  },
  {
   "cell_type": "code",
   "execution_count": 10,
   "id": "9b472808",
   "metadata": {},
   "outputs": [
    {
     "data": {
      "text/plain": [
       "array(['AAL', 'ACA', 'AFR', 'AMX', 'ARG', 'AUT', 'AVA', 'AZA', 'BAW',\n",
       "       'CMP', 'DAL', 'GLO', 'IBE', 'KLM', 'QFU', 'UAL', 'LAP', 'TAM',\n",
       "       'SKU', 'LAN', 'LAW', 'JMR', 'LXP', 'LNE', 'LPE', 'DSM', 'PUE',\n",
       "       'JAT', 'ONE', 'LRC'], dtype=object)"
      ]
     },
     "execution_count": 10,
     "metadata": {},
     "output_type": "execute_result"
    }
   ],
   "source": [
    "data['Emp-I'].unique()"
   ]
  },
  {
   "cell_type": "code",
   "execution_count": 12,
   "id": "2294178e",
   "metadata": {},
   "outputs": [
    {
     "data": {
      "text/plain": [
       "array([datetime.date(2017, 1, 1), datetime.date(2017, 1, 2),\n",
       "       datetime.date(2017, 1, 3), datetime.date(2017, 1, 4),\n",
       "       datetime.date(2017, 1, 5), datetime.date(2017, 1, 7),\n",
       "       datetime.date(2017, 1, 8), datetime.date(2017, 1, 10),\n",
       "       datetime.date(2017, 1, 12), datetime.date(2017, 1, 14),\n",
       "       datetime.date(2017, 1, 16), datetime.date(2017, 1, 18),\n",
       "       datetime.date(2017, 1, 21), datetime.date(2017, 1, 23),\n",
       "       datetime.date(2017, 1, 25), datetime.date(2017, 1, 28),\n",
       "       datetime.date(2017, 1, 30), datetime.date(2017, 1, 6),\n",
       "       datetime.date(2017, 1, 9), datetime.date(2017, 1, 11),\n",
       "       datetime.date(2017, 1, 13), datetime.date(2017, 1, 15),\n",
       "       datetime.date(2017, 1, 17), datetime.date(2017, 1, 19),\n",
       "       datetime.date(2017, 1, 22), datetime.date(2017, 1, 24),\n",
       "       datetime.date(2017, 1, 26), datetime.date(2017, 1, 27),\n",
       "       datetime.date(2017, 1, 29), datetime.date(2017, 1, 31),\n",
       "       datetime.date(2017, 1, 20), datetime.date(2017, 2, 1),\n",
       "       datetime.date(2017, 2, 4), datetime.date(2017, 2, 6),\n",
       "       datetime.date(2017, 2, 8), datetime.date(2017, 2, 11),\n",
       "       datetime.date(2017, 2, 13), datetime.date(2017, 2, 15),\n",
       "       datetime.date(2017, 2, 20), datetime.date(2017, 2, 22),\n",
       "       datetime.date(2017, 2, 26), datetime.date(2017, 2, 27),\n",
       "       datetime.date(2017, 2, 2), datetime.date(2017, 2, 3),\n",
       "       datetime.date(2017, 2, 7), datetime.date(2017, 2, 9),\n",
       "       datetime.date(2017, 2, 10), datetime.date(2017, 2, 14),\n",
       "       datetime.date(2017, 2, 16), datetime.date(2017, 2, 17),\n",
       "       datetime.date(2017, 2, 18), datetime.date(2017, 2, 19),\n",
       "       datetime.date(2017, 2, 21), datetime.date(2017, 2, 23),\n",
       "       datetime.date(2017, 2, 24), datetime.date(2017, 2, 25),\n",
       "       datetime.date(2017, 2, 28), datetime.date(2017, 2, 5),\n",
       "       datetime.date(2017, 2, 12), datetime.date(2017, 3, 1),\n",
       "       datetime.date(2017, 3, 4), datetime.date(2017, 3, 6),\n",
       "       datetime.date(2017, 3, 8), datetime.date(2017, 3, 11),\n",
       "       datetime.date(2017, 3, 13), datetime.date(2017, 3, 15),\n",
       "       datetime.date(2017, 3, 18), datetime.date(2017, 3, 20),\n",
       "       datetime.date(2017, 3, 22), datetime.date(2017, 3, 2),\n",
       "       datetime.date(2017, 3, 3), datetime.date(2017, 3, 5),\n",
       "       datetime.date(2017, 3, 7), datetime.date(2017, 3, 9),\n",
       "       datetime.date(2017, 3, 10), datetime.date(2017, 3, 12),\n",
       "       datetime.date(2017, 3, 14), datetime.date(2017, 3, 16),\n",
       "       datetime.date(2017, 3, 17), datetime.date(2017, 3, 19),\n",
       "       datetime.date(2017, 3, 21), datetime.date(2017, 3, 23),\n",
       "       datetime.date(2017, 3, 24), datetime.date(2017, 3, 25),\n",
       "       datetime.date(2017, 3, 26), datetime.date(2017, 3, 27),\n",
       "       datetime.date(2017, 3, 28), datetime.date(2017, 3, 29),\n",
       "       datetime.date(2017, 3, 30), datetime.date(2017, 3, 31),\n",
       "       datetime.date(2017, 4, 1), datetime.date(2017, 4, 2),\n",
       "       datetime.date(2017, 4, 3), datetime.date(2017, 4, 5),\n",
       "       datetime.date(2017, 4, 6), datetime.date(2017, 4, 7),\n",
       "       datetime.date(2017, 4, 8), datetime.date(2017, 4, 9),\n",
       "       datetime.date(2017, 4, 10), datetime.date(2017, 4, 11),\n",
       "       datetime.date(2017, 4, 12), datetime.date(2017, 4, 13),\n",
       "       datetime.date(2017, 4, 14), datetime.date(2017, 4, 15),\n",
       "       datetime.date(2017, 4, 16), datetime.date(2017, 4, 17),\n",
       "       datetime.date(2017, 4, 18), datetime.date(2017, 4, 19),\n",
       "       datetime.date(2017, 4, 20), datetime.date(2017, 4, 21),\n",
       "       datetime.date(2017, 4, 22), datetime.date(2017, 4, 24),\n",
       "       datetime.date(2017, 4, 25), datetime.date(2017, 4, 26),\n",
       "       datetime.date(2017, 4, 27), datetime.date(2017, 4, 29),\n",
       "       datetime.date(2017, 4, 30), datetime.date(2017, 4, 4),\n",
       "       datetime.date(2017, 4, 23), datetime.date(2017, 4, 28),\n",
       "       datetime.date(2017, 5, 1), datetime.date(2017, 5, 2),\n",
       "       datetime.date(2017, 5, 3), datetime.date(2017, 5, 4),\n",
       "       datetime.date(2017, 5, 5), datetime.date(2017, 5, 6),\n",
       "       datetime.date(2017, 5, 7), datetime.date(2017, 5, 8),\n",
       "       datetime.date(2017, 5, 9), datetime.date(2017, 5, 10),\n",
       "       datetime.date(2017, 5, 11), datetime.date(2017, 5, 12),\n",
       "       datetime.date(2017, 5, 13), datetime.date(2017, 5, 14),\n",
       "       datetime.date(2017, 5, 15), datetime.date(2017, 5, 16),\n",
       "       datetime.date(2017, 5, 17), datetime.date(2017, 5, 18),\n",
       "       datetime.date(2017, 5, 19), datetime.date(2017, 5, 20),\n",
       "       datetime.date(2017, 5, 21), datetime.date(2017, 5, 22),\n",
       "       datetime.date(2017, 5, 23), datetime.date(2017, 5, 24),\n",
       "       datetime.date(2017, 5, 25), datetime.date(2017, 5, 26),\n",
       "       datetime.date(2017, 5, 27), datetime.date(2017, 5, 28),\n",
       "       datetime.date(2017, 5, 29), datetime.date(2017, 5, 30),\n",
       "       datetime.date(2017, 5, 31), datetime.date(2017, 6, 1),\n",
       "       datetime.date(2017, 6, 2), datetime.date(2017, 6, 3),\n",
       "       datetime.date(2017, 6, 4), datetime.date(2017, 6, 5),\n",
       "       datetime.date(2017, 6, 6), datetime.date(2017, 6, 7),\n",
       "       datetime.date(2017, 6, 8), datetime.date(2017, 6, 9),\n",
       "       datetime.date(2017, 6, 11), datetime.date(2017, 6, 12),\n",
       "       datetime.date(2017, 6, 13), datetime.date(2017, 6, 14),\n",
       "       datetime.date(2017, 6, 15), datetime.date(2017, 6, 16),\n",
       "       datetime.date(2017, 6, 17), datetime.date(2017, 6, 18),\n",
       "       datetime.date(2017, 6, 20), datetime.date(2017, 6, 21),\n",
       "       datetime.date(2017, 6, 22), datetime.date(2017, 6, 23),\n",
       "       datetime.date(2017, 6, 24), datetime.date(2017, 6, 25),\n",
       "       datetime.date(2017, 6, 26), datetime.date(2017, 6, 27),\n",
       "       datetime.date(2017, 6, 28), datetime.date(2017, 6, 29),\n",
       "       datetime.date(2017, 6, 30), datetime.date(2017, 6, 10),\n",
       "       datetime.date(2017, 6, 19), datetime.date(2017, 7, 1),\n",
       "       datetime.date(2017, 7, 2), datetime.date(2017, 7, 3),\n",
       "       datetime.date(2017, 7, 4), datetime.date(2017, 7, 5),\n",
       "       datetime.date(2017, 7, 6), datetime.date(2017, 7, 7),\n",
       "       datetime.date(2017, 7, 8), datetime.date(2017, 7, 9),\n",
       "       datetime.date(2017, 7, 10), datetime.date(2017, 7, 11),\n",
       "       datetime.date(2017, 7, 12), datetime.date(2017, 7, 13),\n",
       "       datetime.date(2017, 7, 14), datetime.date(2017, 7, 15),\n",
       "       datetime.date(2017, 7, 17), datetime.date(2017, 7, 18),\n",
       "       datetime.date(2017, 7, 19), datetime.date(2017, 7, 20),\n",
       "       datetime.date(2017, 7, 21), datetime.date(2017, 7, 22),\n",
       "       datetime.date(2017, 7, 23), datetime.date(2017, 7, 24),\n",
       "       datetime.date(2017, 7, 25), datetime.date(2017, 7, 26),\n",
       "       datetime.date(2017, 7, 27), datetime.date(2017, 7, 28),\n",
       "       datetime.date(2017, 7, 29), datetime.date(2017, 7, 30),\n",
       "       datetime.date(2017, 7, 31), datetime.date(2017, 7, 16),\n",
       "       datetime.date(2017, 8, 1), datetime.date(2017, 8, 2),\n",
       "       datetime.date(2017, 8, 3), datetime.date(2017, 8, 4),\n",
       "       datetime.date(2017, 8, 5), datetime.date(2017, 8, 6),\n",
       "       datetime.date(2017, 8, 7), datetime.date(2017, 8, 8),\n",
       "       datetime.date(2017, 8, 9), datetime.date(2017, 8, 10),\n",
       "       datetime.date(2017, 8, 11), datetime.date(2017, 8, 12),\n",
       "       datetime.date(2017, 8, 13), datetime.date(2017, 8, 14),\n",
       "       datetime.date(2017, 8, 15), datetime.date(2017, 8, 17),\n",
       "       datetime.date(2017, 8, 18), datetime.date(2017, 8, 19),\n",
       "       datetime.date(2017, 8, 20), datetime.date(2017, 8, 21),\n",
       "       datetime.date(2017, 8, 22), datetime.date(2017, 8, 23),\n",
       "       datetime.date(2017, 8, 24), datetime.date(2017, 8, 25),\n",
       "       datetime.date(2017, 8, 26), datetime.date(2017, 8, 27),\n",
       "       datetime.date(2017, 8, 28), datetime.date(2017, 8, 29),\n",
       "       datetime.date(2017, 8, 30), datetime.date(2017, 8, 31),\n",
       "       datetime.date(2017, 8, 16), datetime.date(2017, 9, 1),\n",
       "       datetime.date(2017, 9, 2), datetime.date(2017, 9, 3),\n",
       "       datetime.date(2017, 9, 4), datetime.date(2017, 9, 5),\n",
       "       datetime.date(2017, 9, 7), datetime.date(2017, 9, 16),\n",
       "       datetime.date(2017, 9, 17), datetime.date(2017, 9, 18),\n",
       "       datetime.date(2017, 9, 19), datetime.date(2017, 9, 20),\n",
       "       datetime.date(2017, 9, 21), datetime.date(2017, 9, 22),\n",
       "       datetime.date(2017, 9, 23), datetime.date(2017, 9, 24),\n",
       "       datetime.date(2017, 9, 25), datetime.date(2017, 9, 26),\n",
       "       datetime.date(2017, 9, 27), datetime.date(2017, 9, 28),\n",
       "       datetime.date(2017, 9, 29), datetime.date(2017, 9, 30),\n",
       "       datetime.date(2017, 9, 6), datetime.date(2017, 9, 8),\n",
       "       datetime.date(2017, 9, 9), datetime.date(2017, 9, 10),\n",
       "       datetime.date(2017, 9, 11), datetime.date(2017, 9, 12),\n",
       "       datetime.date(2017, 9, 13), datetime.date(2017, 9, 14),\n",
       "       datetime.date(2017, 9, 15), datetime.date(2017, 10, 1),\n",
       "       datetime.date(2017, 10, 2), datetime.date(2017, 10, 3),\n",
       "       datetime.date(2017, 10, 4), datetime.date(2017, 10, 5),\n",
       "       datetime.date(2017, 10, 6), datetime.date(2017, 10, 7),\n",
       "       datetime.date(2017, 10, 8), datetime.date(2017, 10, 9),\n",
       "       datetime.date(2017, 10, 10), datetime.date(2017, 10, 11),\n",
       "       datetime.date(2017, 10, 12), datetime.date(2017, 10, 13),\n",
       "       datetime.date(2017, 10, 14), datetime.date(2017, 10, 15),\n",
       "       datetime.date(2017, 10, 16), datetime.date(2017, 10, 17),\n",
       "       datetime.date(2017, 10, 18), datetime.date(2017, 10, 19),\n",
       "       datetime.date(2017, 10, 20), datetime.date(2017, 10, 21),\n",
       "       datetime.date(2017, 10, 22), datetime.date(2017, 10, 23),\n",
       "       datetime.date(2017, 10, 24), datetime.date(2017, 10, 25),\n",
       "       datetime.date(2017, 10, 26), datetime.date(2017, 10, 27),\n",
       "       datetime.date(2017, 10, 28), datetime.date(2017, 10, 29),\n",
       "       datetime.date(2017, 10, 30), datetime.date(2017, 10, 31),\n",
       "       datetime.date(2017, 11, 1), datetime.date(2017, 11, 2),\n",
       "       datetime.date(2017, 11, 3), datetime.date(2017, 11, 4),\n",
       "       datetime.date(2017, 11, 5), datetime.date(2017, 11, 6),\n",
       "       datetime.date(2017, 11, 7), datetime.date(2017, 11, 8),\n",
       "       datetime.date(2017, 11, 9), datetime.date(2017, 11, 10),\n",
       "       datetime.date(2017, 11, 11), datetime.date(2017, 11, 12),\n",
       "       datetime.date(2017, 11, 13), datetime.date(2017, 11, 14),\n",
       "       datetime.date(2017, 11, 15), datetime.date(2017, 11, 16),\n",
       "       datetime.date(2017, 11, 17), datetime.date(2017, 11, 18),\n",
       "       datetime.date(2017, 11, 19), datetime.date(2017, 11, 20),\n",
       "       datetime.date(2017, 11, 21), datetime.date(2017, 11, 22),\n",
       "       datetime.date(2017, 11, 24), datetime.date(2017, 11, 25),\n",
       "       datetime.date(2017, 11, 26), datetime.date(2017, 11, 27),\n",
       "       datetime.date(2017, 11, 28), datetime.date(2017, 11, 29),\n",
       "       datetime.date(2017, 11, 30), datetime.date(2017, 11, 23),\n",
       "       datetime.date(2017, 12, 1), datetime.date(2017, 12, 16),\n",
       "       datetime.date(2017, 12, 17), datetime.date(2017, 12, 18),\n",
       "       datetime.date(2017, 12, 21), datetime.date(2017, 12, 22),\n",
       "       datetime.date(2017, 12, 23), datetime.date(2017, 12, 24),\n",
       "       datetime.date(2017, 12, 25), datetime.date(2017, 12, 27),\n",
       "       datetime.date(2017, 12, 28), datetime.date(2017, 12, 29),\n",
       "       datetime.date(2017, 12, 30), datetime.date(2017, 12, 31),\n",
       "       datetime.date(2017, 12, 2), datetime.date(2017, 12, 3),\n",
       "       datetime.date(2017, 12, 4), datetime.date(2017, 12, 5),\n",
       "       datetime.date(2017, 12, 6), datetime.date(2017, 12, 7),\n",
       "       datetime.date(2017, 12, 8), datetime.date(2017, 12, 9),\n",
       "       datetime.date(2017, 12, 10), datetime.date(2017, 12, 11),\n",
       "       datetime.date(2017, 12, 12), datetime.date(2017, 12, 13),\n",
       "       datetime.date(2017, 12, 14), datetime.date(2017, 12, 15),\n",
       "       datetime.date(2017, 12, 19), datetime.date(2017, 12, 20),\n",
       "       datetime.date(2017, 12, 26), datetime.date(2018, 1, 1)],\n",
       "      dtype=object)"
      ]
     },
     "execution_count": 12,
     "metadata": {},
     "output_type": "execute_result"
    }
   ],
   "source": [
    "data['Fecha-O']=pd.DataFrame(data['Fecha-O'])\n",
    "data['Fecha-O']= pd.to_datetime(data['Fecha-O'])\n",
    "data['Fecha-O'].dt.date.unique()"
   ]
  },
  {
   "cell_type": "code",
   "execution_count": 13,
   "id": "48cd8e11",
   "metadata": {},
   "outputs": [
    {
     "data": {
      "text/plain": [
       "array([23,  0, 22, 21, 13, 14, 15, 10, 11, 12,  9, 16, 17, 19, 20,  8,  7,\n",
       "       18,  6,  1,  5,  3,  2,  4])"
      ]
     },
     "execution_count": 13,
     "metadata": {},
     "output_type": "execute_result"
    }
   ],
   "source": [
    "data['Fecha-O'].dt.hour.unique()"
   ]
  },
  {
   "cell_type": "code",
   "execution_count": 14,
   "id": "0cc65d02",
   "metadata": {},
   "outputs": [
    {
     "data": {
      "text/plain": [
       "array(['226', '912', '9', '92', '93', '1', '11', '1281', '1283', '1285',\n",
       "       '1287', '1289', '1291', '2291', '98', '116', '176', '2', '295',\n",
       "       '689', '112', '118', '174', '249', '276', '495', '4495', '146',\n",
       "       '7661', '7663', '9245', '9268', '9362', '68', '624', '28', '846',\n",
       "       '741', '21', '23', '27', '29', '69', '73', '75', '99', '8125',\n",
       "       '8137', '81', '8161', '91', '9615', '9651', '9653', '9661', '9689',\n",
       "       '9782', '9623', '3', '7', '13', '15', '17', '25', '41', '43', '51',\n",
       "       '53', '55', '61', '71', '83', '4', '6', '8', '122', '128', '132',\n",
       "       '134', '142', '156', '162', '164', '166', '172', '182', '184',\n",
       "       '186', '188', '192', '194', '196', '521', '531', '551', '0', '14',\n",
       "       '31', '35', '37', '57', '65', '67', '89', '97', '114', '124',\n",
       "       '126', '136', '138', '144', '148', '152', '154', '168', '178',\n",
       "       '211', '213', '215', '217', '219', '221', '231', '233', '235',\n",
       "       '237', '239', '241', '247', '251', '257', '259', '261', '263',\n",
       "       '265', '267', '269', '271', '273', '275', '277', '279', '281',\n",
       "       '283', '285', '287', '289', '291', '293', '297', '312', '314',\n",
       "       '318', '322', '324', '326', '328', '332', '334', '336', '338',\n",
       "       '342', '344', '346', '348', '366', '374', '382', '384', '386',\n",
       "       '388', '396', '5', '439', '443', '445', '449', '451', '455', '461',\n",
       "       '481', '532', '534', '546', '572', '574', '576', '582', '592',\n",
       "       '622', '632', '642', '646', '648', '752', '772', '776', '778',\n",
       "       '798', '833', '841', '843', '845', '849', '932', '934', '942',\n",
       "       '952', '954', '968', '972', '986', '988', '991', '993', '1322',\n",
       "       '1326', '1334', '1357', '1359', '1446', '1498', '2632', '2636',\n",
       "       '2638', '26', '22', '12', '9999', '10', '33', '59', '95', '243',\n",
       "       '1318', '634', '71R', '158', '198', '376', '378', '414', '432',\n",
       "       '434', '438', '486', '492', '1346', '536', '638', '644', '864',\n",
       "       '892', '1122', '1126', '1151', '1363', '1361', '1946', '2372',\n",
       "       '2374', '7811', '7813', '1R', '1165', '1351', '16', '9625', '8665',\n",
       "       '49', '45', '523', '0000', '63', '352', '354', '452', '636', '674',\n",
       "       '888', '895', '897', '18', '1124', '1128', '1236', '1248', '2364',\n",
       "       '2366', '2378', '2474', '2478', '52', '1159', '43R', '989', '1A',\n",
       "       '1B', '2R', '459', '483', '1114', '1168', '1238', '1239', '1261',\n",
       "       '114R', '622R', '1167', '1271', '9659', '1551', '358', '492R',\n",
       "       '1111', '2518', '7959', '2297', '1297', '4118', '9858', '9244',\n",
       "       '9246', '9247', '9261', '9272', '2726', '9673', '9956', '90',\n",
       "       '9629', '9662', '9955', '77', '553', '316', '368', '372', '1155',\n",
       "       '2486', '1136', '1158', '1242', '1244', '2368', '1113', '338R',\n",
       "       '1115', '1132', '1166', '2488', '1927', '7721', '922', '5924',\n",
       "       '591P', '2763', '24', '8519', '8525', '8541', '8542', '9622',\n",
       "       '356', '1138', '1148', '32', '86', '88', '846A', '47', '1234',\n",
       "       '1241', '34', '74', '253', '8131', '9851', '543', '1198', '39',\n",
       "       '87', '448', '664', '54', '1116', '1121', '1146', '1154', '1188',\n",
       "       '1193', '1218', '1222', '1224', '1226', '1228', '1235', '1237',\n",
       "       '1249', '1262', '1264', '1428', '7896', '7899', '1142', '20',\n",
       "       '3624', '9643', '9461', '1134', '1169', '1195', '1199', '1243',\n",
       "       '1251', '1257', '1277', '1279', '7R', '1233', '2287', '9289', '85',\n",
       "       '555', '1149', '1531', '232', '755', '757', '763', '1117', '1141',\n",
       "       '1176', '1178', '1186', '1191', '1197', '1246', '1247', '1259',\n",
       "       '1267', '1269', '7911', '255'], dtype=object)"
      ]
     },
     "execution_count": 14,
     "metadata": {},
     "output_type": "execute_result"
    }
   ],
   "source": [
    "data['Vlo-O'].unique()\n",
    "data['Vlo-O'] = data['Vlo-O'].fillna(9999)\n",
    "data['Vlo-O'] = data['Vlo-O'].astype(str)\n",
    "data['Vlo-O'] = data['Vlo-O'].replace({'.0':''}, regex=True)\n",
    "data['Vlo-O'] = data['Vlo-O'].replace({'':'0000'}, regex=True)\n",
    "data['Vlo-O'] = data['Vlo-O'].replace({'01':'1'}, regex=True)\n",
    "data['Vlo-O'] = data['Vlo-O'].replace({'03':'3'}, regex=True)\n",
    "data['Vlo-O'] = data['Vlo-O'].replace({'04':'4'}, regex=True)\n",
    "data['Vlo-O'] = data['Vlo-O'].replace({'05':'5'}, regex=True)\n",
    "#data['Vlo-O'] = data['Vlo-O'].replace(\".0\",\"\")\n",
    "data['Vlo-O'].unique()"
   ]
  },
  {
   "cell_type": "code",
   "execution_count": 15,
   "id": "f301a2de",
   "metadata": {},
   "outputs": [
    {
     "data": {
      "text/plain": [
       "array(['SCEL'], dtype=object)"
      ]
     },
     "execution_count": 15,
     "metadata": {},
     "output_type": "execute_result"
    }
   ],
   "source": [
    "data['Ori-O'].unique()"
   ]
  },
  {
   "cell_type": "code",
   "execution_count": 16,
   "id": "6dc2cb9d",
   "metadata": {},
   "outputs": [
    {
     "data": {
      "text/plain": [
       "array(['KMIA', 'KDFW', 'SAEZ', 'CYYZ', 'LFPG', 'MMMX', 'SABE', 'SKBO',\n",
       "       'LIRF', 'EGLL', 'MPTO', 'KATL', 'SBGR', 'SBGL', 'SBFL', 'LEMD',\n",
       "       'SPJC', 'YSSY', 'KIAH', 'SGAS', 'SBFI', 'SCTE', 'SCCI', 'SCNT',\n",
       "       'SCBA', 'SCQP', 'SCVD', 'SCIE', 'SCSE', 'SCAT', 'SCCF', 'SCFA',\n",
       "       'SCDA', 'SCAR', 'SAME', 'SACO', 'SUMU', 'SCPQ', 'SCJO', 'KMCO',\n",
       "       'KJFK', 'SEGU', 'MMUN', 'MDPC', 'KLAX', 'NZAA', 'SCIP', 'SLLP',\n",
       "       'SLVR', 'SBCT', 'SEQM', 'SAZS', 'SAAR', 'KIAD', 'SANT', 'YMML',\n",
       "       'SANU', 'SAZN', 'SPSO', 'SAWH', 'EGYP', 'SULS', 'SLCB'],\n",
       "      dtype=object)"
      ]
     },
     "execution_count": 16,
     "metadata": {},
     "output_type": "execute_result"
    }
   ],
   "source": [
    "data['Des-O'].unique()"
   ]
  },
  {
   "cell_type": "code",
   "execution_count": 17,
   "id": "3aff4889",
   "metadata": {},
   "outputs": [
    {
     "data": {
      "text/plain": [
       "array(['AAL', 'ACA', 'AFR', 'AMX', 'ARG', 'AUT', 'AVA', 'AZA', 'BAW',\n",
       "       'CMP', 'DAL', 'GLO', 'IBE', 'KLM', 'LRC', 'QFA', 'UAL', 'LAP',\n",
       "       'TAM', 'SKU', 'LAN', 'LXP', 'LNE', 'LPE', 'DSM', '48O', '56R',\n",
       "       'JMR', 'PUE', 'JAT', 'TPU', 'ONE'], dtype=object)"
      ]
     },
     "execution_count": 17,
     "metadata": {},
     "output_type": "execute_result"
    }
   ],
   "source": [
    "data['Emp-O'].unique()"
   ]
  },
  {
   "cell_type": "code",
   "execution_count": 18,
   "id": "e3618447",
   "metadata": {},
   "outputs": [
    {
     "data": {
      "text/plain": [
       "array([ 1,  2,  3,  4,  5,  7,  8, 10, 12, 14, 16, 18, 21, 23, 25, 28, 30,\n",
       "        6,  9, 11, 13, 15, 17, 19, 22, 24, 26, 27, 29, 31, 20])"
      ]
     },
     "execution_count": 18,
     "metadata": {},
     "output_type": "execute_result"
    }
   ],
   "source": [
    "data['DIA'].unique()"
   ]
  },
  {
   "cell_type": "code",
   "execution_count": 19,
   "id": "7aa01c20",
   "metadata": {},
   "outputs": [
    {
     "data": {
      "text/plain": [
       "array([ 1,  2,  3,  4,  5,  6,  7,  8,  9, 10, 11, 12])"
      ]
     },
     "execution_count": 19,
     "metadata": {},
     "output_type": "execute_result"
    }
   ],
   "source": [
    "data['MES'].unique()"
   ]
  },
  {
   "cell_type": "code",
   "execution_count": 20,
   "id": "b2d357f7",
   "metadata": {},
   "outputs": [
    {
     "data": {
      "text/plain": [
       "array([2017, 2018])"
      ]
     },
     "execution_count": 20,
     "metadata": {},
     "output_type": "execute_result"
    }
   ],
   "source": [
    "data['AÑO'].unique()"
   ]
  },
  {
   "cell_type": "code",
   "execution_count": 21,
   "id": "10843567",
   "metadata": {},
   "outputs": [
    {
     "data": {
      "text/plain": [
       "array(['Domingo', 'Lunes', 'Martes', 'Miercoles', 'Jueves', 'Sabado',\n",
       "       'Viernes'], dtype=object)"
      ]
     },
     "execution_count": 21,
     "metadata": {},
     "output_type": "execute_result"
    }
   ],
   "source": [
    "data['DIANOM'].unique()"
   ]
  },
  {
   "cell_type": "code",
   "execution_count": 22,
   "id": "0bb4ae7d",
   "metadata": {},
   "outputs": [
    {
     "data": {
      "text/plain": [
       "array(['I', 'N'], dtype=object)"
      ]
     },
     "execution_count": 22,
     "metadata": {},
     "output_type": "execute_result"
    }
   ],
   "source": [
    "data['TIPOVUELO'].unique()"
   ]
  },
  {
   "cell_type": "code",
   "execution_count": 23,
   "id": "497b9f44",
   "metadata": {},
   "outputs": [
    {
     "data": {
      "text/plain": [
       "array(['American Airlines', 'Air Canada', 'Air France', 'Aeromexico',\n",
       "       'Aerolineas Argentinas', 'Austral', 'Avianca', 'Alitalia',\n",
       "       'British Airways', 'Copa Air', 'Delta Air', 'Gol Trans', 'Iberia',\n",
       "       'K.L.M.', 'Qantas Airways', 'United Airlines', 'Grupo LATAM',\n",
       "       'Sky Airline', 'Latin American Wings', 'Plus Ultra Lineas Aereas',\n",
       "       'JetSmart SPA', 'Oceanair Linhas Aereas', 'Lacsa'], dtype=object)"
      ]
     },
     "execution_count": 23,
     "metadata": {},
     "output_type": "execute_result"
    }
   ],
   "source": [
    "data['OPERA'].unique()"
   ]
  },
  {
   "cell_type": "code",
   "execution_count": 24,
   "id": "ffbbe20c",
   "metadata": {},
   "outputs": [
    {
     "data": {
      "text/plain": [
       "array(['American Airlines', 'Air Canada', 'Air France', 'Aeromexico',\n",
       "       'Aerolineas Argentinas', 'Austral', 'Avianca', 'Alitalia',\n",
       "       'British Airways', 'Copa Air', 'Delta Air', 'Gol Trans', 'Iberia',\n",
       "       'K.L.M.', 'Qantas Airways', 'United Airlines', 'Grupo LATAM',\n",
       "       'Sky Airline', 'Latin American Wings', 'Plus Ultra Lineas Aereas',\n",
       "       'JetSmart SPA', 'Oceanair Linhas Aereas', 'Lacsa'], dtype=object)"
      ]
     },
     "execution_count": 24,
     "metadata": {},
     "output_type": "execute_result"
    }
   ],
   "source": [
    "data['OPERA'].unique()"
   ]
  },
  {
   "cell_type": "code",
   "execution_count": 25,
   "id": "70aec184",
   "metadata": {},
   "outputs": [
    {
     "data": {
      "text/plain": [
       "array(['Miami', 'Dallas', 'Buenos Aires', 'Toronto', 'Paris',\n",
       "       'Ciudad de Mexico', 'Bogota', 'Roma', 'Londres',\n",
       "       'Ciudad de Panama', 'Atlanta', 'Sao Paulo', 'Rio de Janeiro',\n",
       "       'Florianapolis', 'Madrid', 'Lima', 'Sydney', 'Houston', 'Asuncion',\n",
       "       'Cataratas Iguacu', 'Puerto Montt', 'Punta Arenas',\n",
       "       'Puerto Natales', 'Balmaceda', 'Temuco', 'Valdivia', 'Concepcion',\n",
       "       'La Serena', 'Copiapo', 'Calama', 'Antofagasta', 'Iquique',\n",
       "       'Arica', 'Mendoza', 'Cordoba', 'Montevideo', 'Castro (Chiloe)',\n",
       "       'Osorno', 'Orlando', 'Nueva York', 'Guayaquil', 'Cancun',\n",
       "       'Punta Cana', 'Los Angeles', 'Auckland N.Z.', 'Isla de Pascua',\n",
       "       'La Paz', 'Santa Cruz', 'Curitiba, Bra.', 'Quito', 'Bariloche',\n",
       "       'Rosario', 'Washington', 'Tucuman', 'Melbourne', 'San Juan, Arg.',\n",
       "       'Neuquen', 'Pisco, Peru', 'Ushuia', 'Puerto Stanley',\n",
       "       'Punta del Este', 'Cochabamba'], dtype=object)"
      ]
     },
     "execution_count": 25,
     "metadata": {},
     "output_type": "execute_result"
    }
   ],
   "source": [
    "data['SIGLADES'].unique()"
   ]
  },
  {
   "cell_type": "code",
   "execution_count": 26,
   "id": "49ec7da0",
   "metadata": {},
   "outputs": [],
   "source": [
    "## Distribución por variable"
   ]
  },
  {
   "cell_type": "code",
   "execution_count": 27,
   "id": "6cebbbb8",
   "metadata": {},
   "outputs": [
    {
     "name": "stdout",
     "output_type": "stream",
     "text": [
      "La moda es 2017-12-22\n"
     ]
    },
    {
     "data": {
      "image/png": "[encoded data removed]",
      "text/plain": [
       "<Figure size 432x288 with 1 Axes>"
      ]
     },
     "metadata": {
      "needs_background": "light"
     },
     "output_type": "display_data"
    }
   ],
   "source": [
    "import matplotlib.pyplot as plt\n",
    "import seaborn as sns\n",
    "import numpy as np\n",
    "import statistics as stat\n",
    "data['Fecha-I']=pd.DataFrame(data['Fecha-I'])\n",
    "data['Fecha-I']= pd.to_datetime(data['Fecha-I'])\n",
    "\n",
    "moda = stat.mode(data['Fecha-I'].dt.date)\n",
    "print('La moda es '+str(moda))\n",
    "                        \n",
    "\n",
    "plt.hist(data['Fecha-I'].dt.date, bins=12, rwidth=0.8, color = 'r', alpha = 0.5)\n",
    "plt.xticks(rotation = 'vertical')\n",
    "plt.xlabel('Fecha')\n",
    "plt.ylabel(\"Número de vuelos programados\", labelpad=14)\n",
    "plt.title(\"Número vuelos programados en determinada fecha\")\n",
    "plt.show()"
   ]
  },
  {
   "cell_type": "markdown",
   "id": "2a94fa58",
   "metadata": {},
   "source": [
    "En este plot se aprecia que los vuelos programados aumentan en verano (diciembre, enero, febrero). Los meses con menor número de vuelos programados son marzo, abril, mayo y junio. Hay un alza abrupta en los vuelos en el mes de julio. En la penúltima semana de diciembre se produjo el peak de vuelos programados."
   ]
  },
  {
   "cell_type": "code",
   "execution_count": 31,
   "id": "1b0726c8",
   "metadata": {},
   "outputs": [
    {
     "name": "stdout",
     "output_type": "stream",
     "text": [
      "La moda es 7\n",
      "La mediana es 13.0\n",
      "La promedio es 12.461249743424332\n"
     ]
    },
    {
     "data": {
      "image/png": "[encoded data removed]",
      "text/plain": [
       "<Figure size 432x288 with 1 Axes>"
      ]
     },
     "metadata": {
      "needs_background": "light"
     },
     "output_type": "display_data"
    }
   ],
   "source": [
    "moda = stat.mode(data['Fecha-I'].dt.hour)\n",
    "mediana = stat.median(data['Fecha-I'].dt.hour)\n",
    "promedio = stat.mean(data['Fecha-I'].dt.hour)\n",
    "print('La moda es '+str(moda))\n",
    "print('La mediana es '+str(mediana))\n",
    "print('La promedio es '+str(promedio))\n",
    "\n",
    "plt.hist(data['Fecha-I'].dt.hour, bins=11, rwidth=0.8, color = 'b', alpha = 0.5)\n",
    "plt.xticks([0,2,4,6,8,10,12,14,16,18,20,22,24])\n",
    "plt.xlabel('Hora')\n",
    "plt.ylabel(\"Número de vuelos programados\", labelpad=14)\n",
    "plt.title(\"Número de vuelos programados a determinada hora del día\")\n",
    "plt.show()"
   ]
  },
  {
   "cell_type": "markdown",
   "id": "89cbdb9f",
   "metadata": {},
   "source": [
    "En este plot se aprecia que la mayor parte de los vuelos se programa entre las 6 y las 8 de la mañana. La moda se produce a las 7 am. La hora media de los vuelos es aproximadamente a las 1 pm. Considero que el valor medio no me entrega información relevante, ya que la dispersión cantidad de vuelos programados entre las 11 am y las 9 pm es baja. Por otro lado, se muestra una considerable disminución de los vuelos programados en la madrugada."
   ]
  },
  {
   "cell_type": "code",
   "execution_count": 32,
   "id": "168ef025",
   "metadata": {},
   "outputs": [
    {
     "data": {
      "image/png": "[encoded data removed]",
      "text/plain": [
       "<Figure size 432x288 with 1 Axes>"
      ]
     },
     "metadata": {
      "needs_background": "light"
     },
     "output_type": "display_data"
    }
   ],
   "source": [
    "count = data['Vlo-I'].value_counts()\n",
    "count1 = count[count >= 500]\n",
    "\n",
    "count1.plot(kind='bar', figsize=(6,4), rot=90, color = 'g', alpha = 0.5)\n",
    "plt.xlabel(\"Vuelo programado\", labelpad=14)\n",
    "plt.ylabel(\"Número de vuelos programados \", labelpad=14)\n",
    "plt.title(\"Número de veces que se asigna un número de vuelo \", y=1.02);"
   ]
  },
  {
   "cell_type": "markdown",
   "id": "e2509e1a",
   "metadata": {},
   "source": [
    "No se que información me entrega el número de vuelo, ya que no se si se refiere al avión usado, tipo de vuelo u otro. Por lo tanto, no lo analicé y solo muestré su distribución para los numeros de vuelos programados más de 500 veces. Puedo concluir que hay números de vuelo que se asignan más de 600 veces en el año, mientras que otros solo se usan una vez. "
   ]
  },
  {
   "cell_type": "code",
   "execution_count": 33,
   "id": "dfdb1233",
   "metadata": {},
   "outputs": [
    {
     "name": "stdout",
     "output_type": "stream",
     "text": [
      "['SCEL'] ['Santiago']\n",
      "SCEL    68206\n",
      "Name: Ori-I, dtype: int64\n"
     ]
    }
   ],
   "source": [
    "print(data['Ori-I'].unique(),data['SIGLAORI'].unique() )\n",
    "print(data['Ori-I'].value_counts())"
   ]
  },
  {
   "cell_type": "markdown",
   "id": "a685d7bb",
   "metadata": {},
   "source": [
    "Todos los vuelos programados del catálogo parten desde Santiago. En total se programaron 68.206 vuelos."
   ]
  },
  {
   "cell_type": "code",
   "execution_count": 34,
   "id": "aa92d6aa",
   "metadata": {},
   "outputs": [
    {
     "name": "stdout",
     "output_type": "stream",
     "text": [
      "23.754508401020438\n"
     ]
    },
    {
     "data": {
      "image/png": "[encoded data removed]",
      "text/plain": [
       "<Figure size 432x288 with 1 Axes>"
      ]
     },
     "metadata": {
      "needs_background": "light"
     },
     "output_type": "display_data"
    }
   ],
   "source": [
    "count = data['Des-I'].value_counts()\n",
    "count1 = count[count >=1000]\n",
    "count2 = count[count >=5000]\n",
    "print((count2.sum()/count.sum())*100)\n",
    "\n",
    "\n",
    "count1.plot(kind='bar', figsize=(6,4), rot=90, color = 'm', alpha = 0.5)\n",
    "#data['SIGLADES'].value_counts().plot(kind='bar', figsize=(15,6), rot=90, color = 'r')\n",
    "plt.xlabel(\"Destinos\", labelpad=14)\n",
    "plt.ylabel(\"Número de vuelos programados\", labelpad=14)\n",
    "plt.title(\"Numero de vuelos programados por destino\", y=1.02);"
   ]
  },
  {
   "cell_type": "markdown",
   "id": "952d575e",
   "metadata": {},
   "source": [
    "En este plot se muestra el número de vuelos programados por destino. Solo se consideran en el plot los destinos con más de 1000 vuelos programados. Tres destinos que destacan con más de 5000 vuelos programados (Antofagasta, Lima y Calama). Estos representan el 23.75% de los vuelos programados en el año."
   ]
  },
  {
   "cell_type": "code",
   "execution_count": 35,
   "id": "f4e1d754",
   "metadata": {},
   "outputs": [
    {
     "name": "stdout",
     "output_type": "stream",
     "text": [
      "76.10620766501481\n",
      "55.14324252998269\n",
      "20.962965135032107\n"
     ]
    },
    {
     "data": {
      "image/png": "[encoded data removed]",
      "text/plain": [
       "<Figure size 432x288 with 1 Axes>"
      ]
     },
     "metadata": {
      "needs_background": "light"
     },
     "output_type": "display_data"
    }
   ],
   "source": [
    "count = data['Emp-I'].value_counts()\n",
    "count1 = count[count >=1000]\n",
    "count2 = count[count >=5000]\n",
    "\n",
    "countlan = count[count >30000]\n",
    "countsku = count[(count >=10000) & (count <30000)]\n",
    "print((count2.sum()/count.sum())*100)\n",
    "print((countlan.sum()/count.sum())*100)\n",
    "print((countsku.sum()/count.sum())*100)\n",
    "count1.plot(kind='bar', figsize=(6,4), rot=90, color = 'c', alpha = 0.5)\n",
    "plt.xlabel(\"Empresa\",  labelpad=14)\n",
    "plt.ylabel(\"Número de vuelos programados \", labelpad=14)\n",
    "plt.title(\"Número de vuelos programados por empresa \", y=1.02);"
   ]
  },
  {
   "cell_type": "markdown",
   "id": "9dc8fbb3",
   "metadata": {},
   "source": [
    "En este plot se muestra el número de vuelos programados por empresa. Solo se consideran en el plot las empresas con más de 1000 vuelos programados. También, se puede ver que LAN y SKU presentan más del 76% de vuelos programados, con un 55% y 21% respectivamente."
   ]
  },
  {
   "cell_type": "code",
   "execution_count": 36,
   "id": "b45afd36",
   "metadata": {},
   "outputs": [
    {
     "name": "stdout",
     "output_type": "stream",
     "text": [
      "La moda es 2017-12-22\n"
     ]
    },
    {
     "data": {
      "image/png": "[encoded data removed]",
      "text/plain": [
       "<Figure size 432x288 with 1 Axes>"
      ]
     },
     "metadata": {
      "needs_background": "light"
     },
     "output_type": "display_data"
    }
   ],
   "source": [
    "\n",
    "data['Fecha-O']=pd.DataFrame(data['Fecha-O'])\n",
    "data['Fecha-O']= pd.to_datetime(data['Fecha-O'])\n",
    "moda = stat.mode(data['Fecha-O'].dt.date)\n",
    "print('La moda es '+str(moda))\n",
    "\n",
    "plt.hist(data['Fecha-O'].dt.date, bins=12, rwidth=0.8, color = 'r', alpha = 0.5)\n",
    "plt.xticks(rotation = 'vertical')\n",
    "plt.xlabel('Fecha')\n",
    "plt.ylabel(\"Número de vuelos operados\", labelpad=14)\n",
    "plt.title(\"Número de vuelos operados en determinada fecha\")\n",
    "plt.show()"
   ]
  },
  {
   "cell_type": "markdown",
   "id": "ddc61c82",
   "metadata": {},
   "source": [
    "La distribución de las fechas de los vuelos programados y operados es similar."
   ]
  },
  {
   "cell_type": "code",
   "execution_count": 37,
   "id": "680f76b7",
   "metadata": {},
   "outputs": [
    {
     "name": "stdout",
     "output_type": "stream",
     "text": [
      "La moda es 7\n",
      "La mediana es 13.0\n",
      "La promedio es 12.457041902471923\n"
     ]
    },
    {
     "data": {
      "image/png": "[encoded data removed]",
      "text/plain": [
       "<Figure size 432x288 with 1 Axes>"
      ]
     },
     "metadata": {
      "needs_background": "light"
     },
     "output_type": "display_data"
    }
   ],
   "source": [
    "moda = stat.mode(data['Fecha-O'].dt.hour)\n",
    "mediana = stat.median(data['Fecha-O'].dt.hour)\n",
    "promedio = stat.mean(data['Fecha-O'].dt.hour)\n",
    "print('La moda es '+str(moda))\n",
    "print('La mediana es '+str(mediana))\n",
    "print('La promedio es '+str(promedio))\n",
    "\n",
    "plt.hist(data['Fecha-O'].dt.hour, bins=11, rwidth=0.8, color = 'b', alpha = 0.5)\n",
    "plt.xticks([0,2,4,6,8,10,12,14,16,18,20,22,24])\n",
    "plt.xlabel('Hora')\n",
    "plt.ylabel(\"Cantidad de vuelos\", labelpad=14)\n",
    "plt.title(\"Número de pasajeros que viajó a determinada hora\")\n",
    "plt.show()"
   ]
  },
  {
   "cell_type": "markdown",
   "id": "5a3e94fa",
   "metadata": {},
   "source": [
    "La distribución de la hora de los vuelos programados y operados es similar."
   ]
  },
  {
   "cell_type": "code",
   "execution_count": 38,
   "id": "28604f8a",
   "metadata": {},
   "outputs": [
    {
     "data": {
      "image/png": "[encoded data removed]",
      "text/plain": [
       "<Figure size 432x288 with 1 Axes>"
      ]
     },
     "metadata": {
      "needs_background": "light"
     },
     "output_type": "display_data"
    }
   ],
   "source": [
    "count = data['Vlo-O'].value_counts()\n",
    "count1 = count[count >= 500]\n",
    "\n",
    "count1.plot(kind='bar', figsize=(6,4), rot=90, color = 'g', alpha = 0.5)\n",
    "plt.xlabel(\"Vuelo operado\",  labelpad=14)\n",
    "plt.ylabel(\"Número de vuelos operados\", labelpad=14)\n",
    "plt.title(\"Número de veces que se asigna un número de vuelo operado\", y=1.02);"
   ]
  },
  {
   "cell_type": "markdown",
   "id": "7880c8db",
   "metadata": {},
   "source": [
    "El número de los vuelos programados y operados cambia significativamente. No sabría decir por qué cambia este valor."
   ]
  },
  {
   "cell_type": "code",
   "execution_count": 39,
   "id": "719378cd",
   "metadata": {},
   "outputs": [
    {
     "name": "stdout",
     "output_type": "stream",
     "text": [
      "['SCEL'] ['Santiago']\n",
      "SCEL    68206\n",
      "Name: Ori-O, dtype: int64\n"
     ]
    }
   ],
   "source": [
    "print(data['Ori-O'].unique(),data['SIGLAORI'].unique() )\n",
    "print(data['Ori-O'].value_counts())"
   ]
  },
  {
   "cell_type": "code",
   "execution_count": 40,
   "id": "6956f68d",
   "metadata": {},
   "outputs": [
    {
     "name": "stdout",
     "output_type": "stream",
     "text": [
      "23.754508401020438\n"
     ]
    },
    {
     "data": {
      "image/png": "[encoded data removed]",
      "text/plain": [
       "<Figure size 432x288 with 1 Axes>"
      ]
     },
     "metadata": {
      "needs_background": "light"
     },
     "output_type": "display_data"
    }
   ],
   "source": [
    "count = data['Des-O'].value_counts()\n",
    "count1 = count[count >=1000]\n",
    "count2 = count[count >=5000]\n",
    "print((count2.sum()/count.sum())*100)\n",
    "\n",
    "count1.plot(kind='bar', figsize=(6,4), rot=90, color = 'm', alpha = 0.5)\n",
    "plt.xlabel(\"Destino\",  labelpad=14)\n",
    "plt.ylabel(\"Número de vuelos operados\", labelpad=14)\n",
    "plt.title(\"Número de vuelos operados por destino \", y=1.02);"
   ]
  },
  {
   "cell_type": "markdown",
   "id": "26b4619c",
   "metadata": {},
   "source": [
    "El destino de los vuelos programados y operados se mantiene."
   ]
  },
  {
   "cell_type": "code",
   "execution_count": 41,
   "id": "f788f968",
   "metadata": {},
   "outputs": [
    {
     "name": "stdout",
     "output_type": "stream",
     "text": [
      "68206\n",
      "55.80282364201962\n",
      "30.771486379497404\n",
      "73.07861478462306\n"
     ]
    },
    {
     "data": {
      "image/png": "[encoded data removed]",
      "text/plain": [
       "<Figure size 432x288 with 1 Axes>"
      ]
     },
     "metadata": {
      "needs_background": "light"
     },
     "output_type": "display_data"
    }
   ],
   "source": [
    "count = data['Emp-O'].value_counts()\n",
    "print(count.sum())\n",
    "count1 = count[count >=1000]\n",
    "count2 = count[count >=5000]\n",
    "countlan = count[count >20000]\n",
    "\n",
    "print((countlan.sum()/37611)*100)\n",
    "print((countlan.sum()/count.sum())*100)\n",
    "print((count2.sum()/count.sum())*100)\n",
    "\n",
    "count1.plot(kind='bar', figsize=(6,4), rot=90, color = 'c', alpha = 0.5)\n",
    "plt.xlabel(\"Empresa\",  labelpad=14)\n",
    "plt.ylabel(\"Número de vuelos operados \", labelpad=14)\n",
    "plt.title(\"Número de vuelos operados por empresa\", y=1.02);"
   ]
  },
  {
   "cell_type": "markdown",
   "id": "e1619472",
   "metadata": {},
   "source": [
    "En este plot se muestra el número de vuelos operados por empresa. Se puede ver que LAN, LXP y SKU presentan más del 73% de vuelos operados, valor que disminuye en un 3% con respecto a los vuelos programados por las dos primeras. También, podemos concluir que alrededor de un 55.8% de los vuelos programados por LAN son operados por su filial LXP."
   ]
  },
  {
   "cell_type": "code",
   "execution_count": 42,
   "id": "29d22fdc",
   "metadata": {},
   "outputs": [
    {
     "data": {
      "image/png": "[encoded data removed]",
      "text/plain": [
       "<Figure size 432x288 with 1 Axes>"
      ]
     },
     "metadata": {
      "needs_background": "light"
     },
     "output_type": "display_data"
    }
   ],
   "source": [
    "plt.hist(data['DIA'], bins=31, rwidth=0.8, color = 'y', alpha = 0.5)\n",
    "plt.xlabel('Día del mes')\n",
    "plt.ylabel(\"Número de vuelos operados\", labelpad=14)\n",
    "plt.title(\"Número de vuelos operados por día del mes\")\n",
    "plt.show()"
   ]
  },
  {
   "cell_type": "markdown",
   "id": "5cdbf6ba",
   "metadata": {},
   "source": [
    "Los días del mes en el que se operan los vuelos no presenta una gran dispersión. Los últimos tres días del mes presentan una menor cantidad de vuelos operados. La disminución de vuelos de los días 29,30 y 31 puede deberse a que el mes de febrero solo tiene 28 días y a que solo mes por medio tenemos día 31."
   ]
  },
  {
   "cell_type": "code",
   "execution_count": 43,
   "id": "be167c9d",
   "metadata": {},
   "outputs": [
    {
     "data": {
      "image/png": "[encoded data removed]",
      "text/plain": [
       "<Figure size 432x288 with 1 Axes>"
      ]
     },
     "metadata": {
      "needs_background": "light"
     },
     "output_type": "display_data"
    }
   ],
   "source": [
    "plt.hist(data['MES'], bins=12, rwidth=0.8, color = 'k', alpha = 0.5)\n",
    "plt.xlabel('MES')\n",
    "plt.ylabel('Número de vuelos operados', labelpad=14)\n",
    "plt.xticks([1.4,2.4,3.3,4.2,5.2,6,6.9,7.9,8.8,9.7,10.7,11.5],['enero','febrero','marzo','abril','mayo','junio','julio','agosto','septiembre','octubre','noviembre','diciembre'], rotation = 'vertical')\n",
    "plt.title(\"Número de vuelos operados por mes\")\n",
    "plt.show()"
   ]
  },
  {
   "cell_type": "markdown",
   "id": "6dc1a50e",
   "metadata": {},
   "source": [
    "Se comporta igual que Fecha-O"
   ]
  },
  {
   "cell_type": "code",
   "execution_count": 44,
   "id": "a842ecc9",
   "metadata": {},
   "outputs": [
    {
     "data": {
      "image/png": "[encoded data removed]",
      "text/plain": [
       "<Figure size 432x288 with 1 Axes>"
      ]
     },
     "metadata": {
      "needs_background": "light"
     },
     "output_type": "display_data"
    }
   ],
   "source": [
    "data['AÑO'].value_counts().plot(kind='bar', figsize=(6,4), rot=90, color = 'r', alpha = 0.5)\n",
    "plt.xlabel(\"AÑO\", labelpad=14)\n",
    "plt.ylabel(\"Número de vuelos operados\", labelpad=14)\n",
    "plt.title(\"Número de vuelos operados por año\", y=1.02);"
   ]
  },
  {
   "cell_type": "markdown",
   "id": "49d13b9c",
   "metadata": {},
   "source": [
    "Solo contamos con datos del año 2017"
   ]
  },
  {
   "cell_type": "code",
   "execution_count": 45,
   "id": "d2118266",
   "metadata": {},
   "outputs": [
    {
     "data": {
      "image/png": "[encoded data removed]",
      "text/plain": [
       "<Figure size 432x288 with 1 Axes>"
      ]
     },
     "metadata": {
      "needs_background": "light"
     },
     "output_type": "display_data"
    }
   ],
   "source": [
    "plt.hist(data['DIANOM'], bins=7, rwidth=0.8, color = 'b', alpha = 0.5)\n",
    "plt.xlabel('Día de la semana')\n",
    "plt.xticks([0.4,1.3,2.1,3,3.9,4.7,5.6],['Domingo','Lunes','Martes','Miércoles','Jueves','Viernes','Sábado'], rotation = 'vertical')\n",
    "plt.ylabel(\"Número de vuelos operados\", labelpad=14)\n",
    "plt.title(\"Número de vuelos operados por día de la semana\")\n",
    "plt.show()"
   ]
  },
  {
   "cell_type": "markdown",
   "id": "e2fd5504",
   "metadata": {},
   "source": [
    "No hay una gran dispersión en la cantidad de vuelos operados por día de la semana. El día que presenta menor número de vuelos y que sabe levemente de la media es el viernes."
   ]
  },
  {
   "cell_type": "code",
   "execution_count": 46,
   "id": "14b3dfce",
   "metadata": {},
   "outputs": [
    {
     "name": "stdout",
     "output_type": "stream",
     "text": [
      "54.19757792569568 45.80242207430431\n"
     ]
    },
    {
     "data": {
      "image/png": "[encoded data removed]",
      "text/plain": [
       "<Figure size 432x288 with 1 Axes>"
      ]
     },
     "metadata": {
      "needs_background": "light"
     },
     "output_type": "display_data"
    }
   ],
   "source": [
    "count = data['TIPOVUELO'].value_counts()\n",
    "num = count['N'] + count['I']\n",
    "N = (count['N']/num)*100\n",
    "I = (count['I']/num)*100\n",
    "print(N,I)\n",
    "data['TIPOVUELO'].value_counts().plot(kind='bar', figsize=(6,4), rot=90, color = 'g', alpha = 0.5)\n",
    "plt.xticks([0,1],['Nacional','Internacional'], rotation = 'horizontal')\n",
    "plt.xlabel(\"Tipo de vuelo\", labelpad=14)\n",
    "plt.ylabel(\"Número de vuelos operados\", labelpad=14)\n",
    "plt.title(\"Número de vuelos operados por tipo de vuelo\", y=1.02);"
   ]
  },
  {
   "cell_type": "markdown",
   "id": "c7ee8eba",
   "metadata": {},
   "source": [
    "Los vuelos se dividen en nacionales e internacionales con un 54% y un 45% respectivamente."
   ]
  },
  {
   "cell_type": "code",
   "execution_count": 47,
   "id": "19c80293",
   "metadata": {},
   "outputs": [
    {
     "name": "stdout",
     "output_type": "stream",
     "text": [
      "68206\n",
      "20.962965135032107\n",
      "59.95366976512331\n"
     ]
    },
    {
     "data": {
      "image/png": "[encoded data removed]",
      "text/plain": [
       "<Figure size 432x288 with 1 Axes>"
      ]
     },
     "metadata": {
      "needs_background": "light"
     },
     "output_type": "display_data"
    }
   ],
   "source": [
    "count = data['OPERA'].value_counts()\n",
    "print(count.sum())\n",
    "count1 = count[count >=1000]\n",
    "countsku = count[(count >=5000) & (count <=15000)]\n",
    "countlan = count[count >20000]\n",
    "\n",
    "print((countsku.sum()/count.sum())*100)\n",
    "print((countlan.sum()/count.sum())*100)\n",
    "\n",
    "\n",
    "count1.plot(kind='bar', figsize=(6,4), rot=90, color = 'm', alpha = 0.5)\n",
    "plt.xlabel(\"OPERA\", labelpad=14)\n",
    "plt.ylabel(\"Número de vuelos operados\", labelpad=14)\n",
    "plt.title(\"Numero de vuelos operados por aerolínea\", y=1.02);"
   ]
  },
  {
   "cell_type": "markdown",
   "id": "ee188825",
   "metadata": {},
   "source": [
    "El resultado es casi igual al del número de vuelos programados por empresa. En este plot se muestra el número de vuelos de LAN y TAM juntos como Grupo LATAM."
   ]
  },
  {
   "cell_type": "code",
   "execution_count": 48,
   "id": "3ec79b94",
   "metadata": {},
   "outputs": [
    {
     "name": "stdout",
     "output_type": "stream",
     "text": [
      "33.04254757645955\n"
     ]
    },
    {
     "data": {
      "image/png": "[encoded data removed]",
      "text/plain": [
       "<Figure size 432x288 with 1 Axes>"
      ]
     },
     "metadata": {
      "needs_background": "light"
     },
     "output_type": "display_data"
    }
   ],
   "source": [
    "count = data['SIGLADES'].value_counts()\n",
    "count1 = count[count >=1000]\n",
    "count2 = count[count >=5000]\n",
    "print((count2.sum()/count.sum())*100)\n",
    "\n",
    "count1.plot(kind='bar', figsize=(6,4), rot=90, color = 'c', alpha = 0.5)\n",
    "plt.xlabel(\"SIGLADES\", labelpad=14)\n",
    "plt.ylabel(\"Cantidad de vuelos\", labelpad=14)\n",
    "plt.title(\"Numero de pasajeros que viajó en determinada fecha\", y=1.02);"
   ]
  },
  {
   "cell_type": "markdown",
   "id": "74640ca7",
   "metadata": {},
   "source": [
    "En este plot se muestra el número de vuelos operados por destino. El número de vuelos es similar al mostrado en el en plot de vuelos programados por destino. En el plot de número de vuelos por destino programado no aparece Buenos Aires como uno de los destino principales, sin embargo esto se debe a que los vuelos a esta ciudad aterrizan en distintos aeropuertos (SAEZ y SABE). \n",
    "Es importante tener en cuenta que variables se quiere estudiar, si la cuidad de destino o el aeropuerto de arribo."
   ]
  },
  {
   "cell_type": "code",
   "execution_count": 49,
   "id": "0c5b75d6",
   "metadata": {},
   "outputs": [
    {
     "name": "stdout",
     "output_type": "stream",
     "text": [
      "['SCEL'] ['Santiago']\n",
      "SCEL    68206\n",
      "Name: Ori-O, dtype: int64\n"
     ]
    }
   ],
   "source": [
    "print(data['Ori-O'].unique(),data['SIGLAORI'].unique() )\n",
    "print(data['Ori-O'].value_counts())"
   ]
  },
  {
   "cell_type": "code",
   "execution_count": 50,
   "id": "fc95e5ef",
   "metadata": {},
   "outputs": [
    {
     "data": {
      "text/html": [
       "<div>\n",
       "<style scoped>\n",
       "    .dataframe tbody tr th:only-of-type {\n",
       "        vertical-align: middle;\n",
       "    }\n",
       "\n",
       "    .dataframe tbody tr th {\n",
       "        vertical-align: top;\n",
       "    }\n",
       "\n",
       "    .dataframe thead th {\n",
       "        text-align: right;\n",
       "    }\n",
       "</style>\n",
       "<table border=\"1\" class=\"dataframe\">\n",
       "  <thead>\n",
       "    <tr style=\"text-align: right;\">\n",
       "      <th></th>\n",
       "      <th>DIA</th>\n",
       "      <th>MES</th>\n",
       "      <th>AÑO</th>\n",
       "    </tr>\n",
       "  </thead>\n",
       "  <tbody>\n",
       "    <tr>\n",
       "      <th>DIA</th>\n",
       "      <td>1.000000</td>\n",
       "      <td>0.014318</td>\n",
       "      <td>-0.009073</td>\n",
       "    </tr>\n",
       "    <tr>\n",
       "      <th>MES</th>\n",
       "      <td>0.014318</td>\n",
       "      <td>1.000000</td>\n",
       "      <td>-0.008642</td>\n",
       "    </tr>\n",
       "    <tr>\n",
       "      <th>AÑO</th>\n",
       "      <td>-0.009073</td>\n",
       "      <td>-0.008642</td>\n",
       "      <td>1.000000</td>\n",
       "    </tr>\n",
       "  </tbody>\n",
       "</table>\n",
       "</div>"
      ],
      "text/plain": [
       "          DIA       MES       AÑO\n",
       "DIA  1.000000  0.014318 -0.009073\n",
       "MES  0.014318  1.000000 -0.008642\n",
       "AÑO -0.009073 -0.008642  1.000000"
      ]
     },
     "execution_count": 50,
     "metadata": {},
     "output_type": "execute_result"
    }
   ],
   "source": [
    "data.corr()"
   ]
  },
  {
   "cell_type": "markdown",
   "id": "0470079f",
   "metadata": {},
   "source": [
    "## 2) Genera las columnas adicionales y luego expórtelas en un archivo synthetic_features.csv \n",
    "\n",
    "### temporada_alta : 1 si Fecha-I está entre 15-Dic y 3-Mar, o 15-Jul y 31-Jul, o 11-Sep y 30-Sep, 0 si no.\n",
    "\n"
   ]
  },
  {
   "cell_type": "code",
   "execution_count": 51,
   "id": "1d9d75fc",
   "metadata": {},
   "outputs": [
    {
     "data": {
      "text/html": [
       "<div>\n",
       "<style scoped>\n",
       "    .dataframe tbody tr th:only-of-type {\n",
       "        vertical-align: middle;\n",
       "    }\n",
       "\n",
       "    .dataframe tbody tr th {\n",
       "        vertical-align: top;\n",
       "    }\n",
       "\n",
       "    .dataframe thead th {\n",
       "        text-align: right;\n",
       "    }\n",
       "</style>\n",
       "<table border=\"1\" class=\"dataframe\">\n",
       "  <thead>\n",
       "    <tr style=\"text-align: right;\">\n",
       "      <th></th>\n",
       "      <th>Fecha-I</th>\n",
       "      <th>Vlo-I</th>\n",
       "      <th>Ori-I</th>\n",
       "      <th>Des-I</th>\n",
       "      <th>Emp-I</th>\n",
       "      <th>Fecha-O</th>\n",
       "      <th>Vlo-O</th>\n",
       "      <th>Ori-O</th>\n",
       "      <th>Des-O</th>\n",
       "      <th>Emp-O</th>\n",
       "      <th>...</th>\n",
       "      <th>MES</th>\n",
       "      <th>AÑO</th>\n",
       "      <th>DIANOM</th>\n",
       "      <th>TIPOVUELO</th>\n",
       "      <th>OPERA</th>\n",
       "      <th>SIGLAORI</th>\n",
       "      <th>SIGLADES</th>\n",
       "      <th>Fecha-O-split</th>\n",
       "      <th>Hora-O-split</th>\n",
       "      <th>temporada_alta</th>\n",
       "    </tr>\n",
       "  </thead>\n",
       "  <tbody>\n",
       "    <tr>\n",
       "      <th>0</th>\n",
       "      <td>2017-01-01 23:30:00</td>\n",
       "      <td>226</td>\n",
       "      <td>SCEL</td>\n",
       "      <td>KMIA</td>\n",
       "      <td>AAL</td>\n",
       "      <td>2017-01-01 23:33:00</td>\n",
       "      <td>226</td>\n",
       "      <td>SCEL</td>\n",
       "      <td>KMIA</td>\n",
       "      <td>AAL</td>\n",
       "      <td>...</td>\n",
       "      <td>1</td>\n",
       "      <td>2017</td>\n",
       "      <td>Domingo</td>\n",
       "      <td>I</td>\n",
       "      <td>American Airlines</td>\n",
       "      <td>Santiago</td>\n",
       "      <td>Miami</td>\n",
       "      <td>2017-01-01</td>\n",
       "      <td>23:33:00</td>\n",
       "      <td>1</td>\n",
       "    </tr>\n",
       "    <tr>\n",
       "      <th>1</th>\n",
       "      <td>2017-01-02 23:30:00</td>\n",
       "      <td>226</td>\n",
       "      <td>SCEL</td>\n",
       "      <td>KMIA</td>\n",
       "      <td>AAL</td>\n",
       "      <td>2017-01-02 23:39:00</td>\n",
       "      <td>226</td>\n",
       "      <td>SCEL</td>\n",
       "      <td>KMIA</td>\n",
       "      <td>AAL</td>\n",
       "      <td>...</td>\n",
       "      <td>1</td>\n",
       "      <td>2017</td>\n",
       "      <td>Lunes</td>\n",
       "      <td>I</td>\n",
       "      <td>American Airlines</td>\n",
       "      <td>Santiago</td>\n",
       "      <td>Miami</td>\n",
       "      <td>2017-01-02</td>\n",
       "      <td>23:39:00</td>\n",
       "      <td>1</td>\n",
       "    </tr>\n",
       "    <tr>\n",
       "      <th>2</th>\n",
       "      <td>2017-01-03 23:30:00</td>\n",
       "      <td>226</td>\n",
       "      <td>SCEL</td>\n",
       "      <td>KMIA</td>\n",
       "      <td>AAL</td>\n",
       "      <td>2017-01-03 23:39:00</td>\n",
       "      <td>226</td>\n",
       "      <td>SCEL</td>\n",
       "      <td>KMIA</td>\n",
       "      <td>AAL</td>\n",
       "      <td>...</td>\n",
       "      <td>1</td>\n",
       "      <td>2017</td>\n",
       "      <td>Martes</td>\n",
       "      <td>I</td>\n",
       "      <td>American Airlines</td>\n",
       "      <td>Santiago</td>\n",
       "      <td>Miami</td>\n",
       "      <td>2017-01-03</td>\n",
       "      <td>23:39:00</td>\n",
       "      <td>1</td>\n",
       "    </tr>\n",
       "    <tr>\n",
       "      <th>3</th>\n",
       "      <td>2017-01-04 23:30:00</td>\n",
       "      <td>226</td>\n",
       "      <td>SCEL</td>\n",
       "      <td>KMIA</td>\n",
       "      <td>AAL</td>\n",
       "      <td>2017-01-04 23:33:00</td>\n",
       "      <td>226</td>\n",
       "      <td>SCEL</td>\n",
       "      <td>KMIA</td>\n",
       "      <td>AAL</td>\n",
       "      <td>...</td>\n",
       "      <td>1</td>\n",
       "      <td>2017</td>\n",
       "      <td>Miercoles</td>\n",
       "      <td>I</td>\n",
       "      <td>American Airlines</td>\n",
       "      <td>Santiago</td>\n",
       "      <td>Miami</td>\n",
       "      <td>2017-01-04</td>\n",
       "      <td>23:33:00</td>\n",
       "      <td>1</td>\n",
       "    </tr>\n",
       "    <tr>\n",
       "      <th>4</th>\n",
       "      <td>2017-01-05 23:30:00</td>\n",
       "      <td>226</td>\n",
       "      <td>SCEL</td>\n",
       "      <td>KMIA</td>\n",
       "      <td>AAL</td>\n",
       "      <td>2017-01-05 23:28:00</td>\n",
       "      <td>226</td>\n",
       "      <td>SCEL</td>\n",
       "      <td>KMIA</td>\n",
       "      <td>AAL</td>\n",
       "      <td>...</td>\n",
       "      <td>1</td>\n",
       "      <td>2017</td>\n",
       "      <td>Jueves</td>\n",
       "      <td>I</td>\n",
       "      <td>American Airlines</td>\n",
       "      <td>Santiago</td>\n",
       "      <td>Miami</td>\n",
       "      <td>2017-01-05</td>\n",
       "      <td>23:28:00</td>\n",
       "      <td>1</td>\n",
       "    </tr>\n",
       "  </tbody>\n",
       "</table>\n",
       "<p>5 rows × 21 columns</p>\n",
       "</div>"
      ],
      "text/plain": [
       "              Fecha-I Vlo-I Ori-I Des-I Emp-I             Fecha-O Vlo-O Ori-O  \\\n",
       "0 2017-01-01 23:30:00   226  SCEL  KMIA   AAL 2017-01-01 23:33:00   226  SCEL   \n",
       "1 2017-01-02 23:30:00   226  SCEL  KMIA   AAL 2017-01-02 23:39:00   226  SCEL   \n",
       "2 2017-01-03 23:30:00   226  SCEL  KMIA   AAL 2017-01-03 23:39:00   226  SCEL   \n",
       "3 2017-01-04 23:30:00   226  SCEL  KMIA   AAL 2017-01-04 23:33:00   226  SCEL   \n",
       "4 2017-01-05 23:30:00   226  SCEL  KMIA   AAL 2017-01-05 23:28:00   226  SCEL   \n",
       "\n",
       "  Des-O Emp-O  ...  MES   AÑO     DIANOM TIPOVUELO              OPERA  \\\n",
       "0  KMIA   AAL  ...    1  2017    Domingo         I  American Airlines   \n",
       "1  KMIA   AAL  ...    1  2017      Lunes         I  American Airlines   \n",
       "2  KMIA   AAL  ...    1  2017     Martes         I  American Airlines   \n",
       "3  KMIA   AAL  ...    1  2017  Miercoles         I  American Airlines   \n",
       "4  KMIA   AAL  ...    1  2017     Jueves         I  American Airlines   \n",
       "\n",
       "   SIGLAORI SIGLADES Fecha-O-split Hora-O-split temporada_alta  \n",
       "0  Santiago    Miami    2017-01-01     23:33:00              1  \n",
       "1  Santiago    Miami    2017-01-02     23:39:00              1  \n",
       "2  Santiago    Miami    2017-01-03     23:39:00              1  \n",
       "3  Santiago    Miami    2017-01-04     23:33:00              1  \n",
       "4  Santiago    Miami    2017-01-05     23:28:00              1  \n",
       "\n",
       "[5 rows x 21 columns]"
      ]
     },
     "execution_count": 51,
     "metadata": {},
     "output_type": "execute_result"
    }
   ],
   "source": [
    "import numpy as np\n",
    "\n",
    "data['temporada_alta'] = np.where(((data['Fecha-I'] < '2017-03-04') & (data['Fecha-I'] >= '2017-01-01')) |\n",
    "                                  ((data['Fecha-I'] < '2017-08-01') & (data['Fecha-I'] >= '2017-07-15')) |\n",
    "                                  ((data['Fecha-I'] < '2017-10-01') & (data['Fecha-I'] >= '2017-09-11')) |\n",
    "                                  ((data['Fecha-I'] < '2018-01-01') & (data['Fecha-I'] >= '2017-12-15')),1,0)\n",
    "data.head()"
   ]
  },
  {
   "cell_type": "markdown",
   "id": "f1ab8466",
   "metadata": {},
   "source": [
    "### dif_min : diferencia en minutos entre Fecha-O y Fecha-I"
   ]
  },
  {
   "cell_type": "code",
   "execution_count": 52,
   "id": "290226a9",
   "metadata": {},
   "outputs": [
    {
     "data": {
      "text/html": [
       "<div>\n",
       "<style scoped>\n",
       "    .dataframe tbody tr th:only-of-type {\n",
       "        vertical-align: middle;\n",
       "    }\n",
       "\n",
       "    .dataframe tbody tr th {\n",
       "        vertical-align: top;\n",
       "    }\n",
       "\n",
       "    .dataframe thead th {\n",
       "        text-align: right;\n",
       "    }\n",
       "</style>\n",
       "<table border=\"1\" class=\"dataframe\">\n",
       "  <thead>\n",
       "    <tr style=\"text-align: right;\">\n",
       "      <th></th>\n",
       "      <th>Fecha-I</th>\n",
       "      <th>Vlo-I</th>\n",
       "      <th>Ori-I</th>\n",
       "      <th>Des-I</th>\n",
       "      <th>Emp-I</th>\n",
       "      <th>Fecha-O</th>\n",
       "      <th>Vlo-O</th>\n",
       "      <th>Ori-O</th>\n",
       "      <th>Des-O</th>\n",
       "      <th>Emp-O</th>\n",
       "      <th>...</th>\n",
       "      <th>AÑO</th>\n",
       "      <th>DIANOM</th>\n",
       "      <th>TIPOVUELO</th>\n",
       "      <th>OPERA</th>\n",
       "      <th>SIGLAORI</th>\n",
       "      <th>SIGLADES</th>\n",
       "      <th>Fecha-O-split</th>\n",
       "      <th>Hora-O-split</th>\n",
       "      <th>temporada_alta</th>\n",
       "      <th>dif_min</th>\n",
       "    </tr>\n",
       "  </thead>\n",
       "  <tbody>\n",
       "    <tr>\n",
       "      <th>0</th>\n",
       "      <td>2017-01-01 23:30:00</td>\n",
       "      <td>226</td>\n",
       "      <td>SCEL</td>\n",
       "      <td>KMIA</td>\n",
       "      <td>AAL</td>\n",
       "      <td>2017-01-01 23:33:00</td>\n",
       "      <td>226</td>\n",
       "      <td>SCEL</td>\n",
       "      <td>KMIA</td>\n",
       "      <td>AAL</td>\n",
       "      <td>...</td>\n",
       "      <td>2017</td>\n",
       "      <td>Domingo</td>\n",
       "      <td>I</td>\n",
       "      <td>American Airlines</td>\n",
       "      <td>Santiago</td>\n",
       "      <td>Miami</td>\n",
       "      <td>2017-01-01</td>\n",
       "      <td>23:33:00</td>\n",
       "      <td>1</td>\n",
       "      <td>0 days 00:03:00</td>\n",
       "    </tr>\n",
       "    <tr>\n",
       "      <th>1</th>\n",
       "      <td>2017-01-02 23:30:00</td>\n",
       "      <td>226</td>\n",
       "      <td>SCEL</td>\n",
       "      <td>KMIA</td>\n",
       "      <td>AAL</td>\n",
       "      <td>2017-01-02 23:39:00</td>\n",
       "      <td>226</td>\n",
       "      <td>SCEL</td>\n",
       "      <td>KMIA</td>\n",
       "      <td>AAL</td>\n",
       "      <td>...</td>\n",
       "      <td>2017</td>\n",
       "      <td>Lunes</td>\n",
       "      <td>I</td>\n",
       "      <td>American Airlines</td>\n",
       "      <td>Santiago</td>\n",
       "      <td>Miami</td>\n",
       "      <td>2017-01-02</td>\n",
       "      <td>23:39:00</td>\n",
       "      <td>1</td>\n",
       "      <td>0 days 00:09:00</td>\n",
       "    </tr>\n",
       "    <tr>\n",
       "      <th>2</th>\n",
       "      <td>2017-01-03 23:30:00</td>\n",
       "      <td>226</td>\n",
       "      <td>SCEL</td>\n",
       "      <td>KMIA</td>\n",
       "      <td>AAL</td>\n",
       "      <td>2017-01-03 23:39:00</td>\n",
       "      <td>226</td>\n",
       "      <td>SCEL</td>\n",
       "      <td>KMIA</td>\n",
       "      <td>AAL</td>\n",
       "      <td>...</td>\n",
       "      <td>2017</td>\n",
       "      <td>Martes</td>\n",
       "      <td>I</td>\n",
       "      <td>American Airlines</td>\n",
       "      <td>Santiago</td>\n",
       "      <td>Miami</td>\n",
       "      <td>2017-01-03</td>\n",
       "      <td>23:39:00</td>\n",
       "      <td>1</td>\n",
       "      <td>0 days 00:09:00</td>\n",
       "    </tr>\n",
       "    <tr>\n",
       "      <th>3</th>\n",
       "      <td>2017-01-04 23:30:00</td>\n",
       "      <td>226</td>\n",
       "      <td>SCEL</td>\n",
       "      <td>KMIA</td>\n",
       "      <td>AAL</td>\n",
       "      <td>2017-01-04 23:33:00</td>\n",
       "      <td>226</td>\n",
       "      <td>SCEL</td>\n",
       "      <td>KMIA</td>\n",
       "      <td>AAL</td>\n",
       "      <td>...</td>\n",
       "      <td>2017</td>\n",
       "      <td>Miercoles</td>\n",
       "      <td>I</td>\n",
       "      <td>American Airlines</td>\n",
       "      <td>Santiago</td>\n",
       "      <td>Miami</td>\n",
       "      <td>2017-01-04</td>\n",
       "      <td>23:33:00</td>\n",
       "      <td>1</td>\n",
       "      <td>0 days 00:03:00</td>\n",
       "    </tr>\n",
       "    <tr>\n",
       "      <th>4</th>\n",
       "      <td>2017-01-05 23:30:00</td>\n",
       "      <td>226</td>\n",
       "      <td>SCEL</td>\n",
       "      <td>KMIA</td>\n",
       "      <td>AAL</td>\n",
       "      <td>2017-01-05 23:28:00</td>\n",
       "      <td>226</td>\n",
       "      <td>SCEL</td>\n",
       "      <td>KMIA</td>\n",
       "      <td>AAL</td>\n",
       "      <td>...</td>\n",
       "      <td>2017</td>\n",
       "      <td>Jueves</td>\n",
       "      <td>I</td>\n",
       "      <td>American Airlines</td>\n",
       "      <td>Santiago</td>\n",
       "      <td>Miami</td>\n",
       "      <td>2017-01-05</td>\n",
       "      <td>23:28:00</td>\n",
       "      <td>1</td>\n",
       "      <td>-1 days +23:58:00</td>\n",
       "    </tr>\n",
       "  </tbody>\n",
       "</table>\n",
       "<p>5 rows × 22 columns</p>\n",
       "</div>"
      ],
      "text/plain": [
       "              Fecha-I Vlo-I Ori-I Des-I Emp-I             Fecha-O Vlo-O Ori-O  \\\n",
       "0 2017-01-01 23:30:00   226  SCEL  KMIA   AAL 2017-01-01 23:33:00   226  SCEL   \n",
       "1 2017-01-02 23:30:00   226  SCEL  KMIA   AAL 2017-01-02 23:39:00   226  SCEL   \n",
       "2 2017-01-03 23:30:00   226  SCEL  KMIA   AAL 2017-01-03 23:39:00   226  SCEL   \n",
       "3 2017-01-04 23:30:00   226  SCEL  KMIA   AAL 2017-01-04 23:33:00   226  SCEL   \n",
       "4 2017-01-05 23:30:00   226  SCEL  KMIA   AAL 2017-01-05 23:28:00   226  SCEL   \n",
       "\n",
       "  Des-O Emp-O  ...   AÑO     DIANOM  TIPOVUELO              OPERA  SIGLAORI  \\\n",
       "0  KMIA   AAL  ...  2017    Domingo          I  American Airlines  Santiago   \n",
       "1  KMIA   AAL  ...  2017      Lunes          I  American Airlines  Santiago   \n",
       "2  KMIA   AAL  ...  2017     Martes          I  American Airlines  Santiago   \n",
       "3  KMIA   AAL  ...  2017  Miercoles          I  American Airlines  Santiago   \n",
       "4  KMIA   AAL  ...  2017     Jueves          I  American Airlines  Santiago   \n",
       "\n",
       "  SIGLADES Fecha-O-split Hora-O-split temporada_alta           dif_min  \n",
       "0    Miami    2017-01-01     23:33:00              1   0 days 00:03:00  \n",
       "1    Miami    2017-01-02     23:39:00              1   0 days 00:09:00  \n",
       "2    Miami    2017-01-03     23:39:00              1   0 days 00:09:00  \n",
       "3    Miami    2017-01-04     23:33:00              1   0 days 00:03:00  \n",
       "4    Miami    2017-01-05     23:28:00              1 -1 days +23:58:00  \n",
       "\n",
       "[5 rows x 22 columns]"
      ]
     },
     "execution_count": 52,
     "metadata": {},
     "output_type": "execute_result"
    }
   ],
   "source": [
    "data['Fecha-O']=pd.DataFrame(data['Fecha-O'])\n",
    "data['Fecha-O']= pd.to_datetime(data['Fecha-O'])\n",
    "data['Fecha-I']=pd.DataFrame(data['Fecha-I'])\n",
    "data['Fecha-I']= pd.to_datetime(data['Fecha-I'])\n",
    "data['dif_min'] = (data['Fecha-O']- data['Fecha-I'])\n",
    "data.head()"
   ]
  },
  {
   "cell_type": "markdown",
   "id": "8e66a166",
   "metadata": {},
   "source": [
    "### atraso_15 : 1 si dif_min > 15, 0 si no."
   ]
  },
  {
   "cell_type": "code",
   "execution_count": 53,
   "id": "5f684295",
   "metadata": {},
   "outputs": [
    {
     "data": {
      "text/html": [
       "<div>\n",
       "<style scoped>\n",
       "    .dataframe tbody tr th:only-of-type {\n",
       "        vertical-align: middle;\n",
       "    }\n",
       "\n",
       "    .dataframe tbody tr th {\n",
       "        vertical-align: top;\n",
       "    }\n",
       "\n",
       "    .dataframe thead th {\n",
       "        text-align: right;\n",
       "    }\n",
       "</style>\n",
       "<table border=\"1\" class=\"dataframe\">\n",
       "  <thead>\n",
       "    <tr style=\"text-align: right;\">\n",
       "      <th></th>\n",
       "      <th>Fecha-I</th>\n",
       "      <th>Vlo-I</th>\n",
       "      <th>Ori-I</th>\n",
       "      <th>Des-I</th>\n",
       "      <th>Emp-I</th>\n",
       "      <th>Fecha-O</th>\n",
       "      <th>Vlo-O</th>\n",
       "      <th>Ori-O</th>\n",
       "      <th>Des-O</th>\n",
       "      <th>Emp-O</th>\n",
       "      <th>...</th>\n",
       "      <th>DIANOM</th>\n",
       "      <th>TIPOVUELO</th>\n",
       "      <th>OPERA</th>\n",
       "      <th>SIGLAORI</th>\n",
       "      <th>SIGLADES</th>\n",
       "      <th>Fecha-O-split</th>\n",
       "      <th>Hora-O-split</th>\n",
       "      <th>temporada_alta</th>\n",
       "      <th>dif_min</th>\n",
       "      <th>atraso_15</th>\n",
       "    </tr>\n",
       "  </thead>\n",
       "  <tbody>\n",
       "    <tr>\n",
       "      <th>0</th>\n",
       "      <td>2017-01-01 23:30:00</td>\n",
       "      <td>226</td>\n",
       "      <td>SCEL</td>\n",
       "      <td>KMIA</td>\n",
       "      <td>AAL</td>\n",
       "      <td>2017-01-01 23:33:00</td>\n",
       "      <td>226</td>\n",
       "      <td>SCEL</td>\n",
       "      <td>KMIA</td>\n",
       "      <td>AAL</td>\n",
       "      <td>...</td>\n",
       "      <td>Domingo</td>\n",
       "      <td>I</td>\n",
       "      <td>American Airlines</td>\n",
       "      <td>Santiago</td>\n",
       "      <td>Miami</td>\n",
       "      <td>2017-01-01</td>\n",
       "      <td>23:33:00</td>\n",
       "      <td>1</td>\n",
       "      <td>0 days 00:03:00</td>\n",
       "      <td>0</td>\n",
       "    </tr>\n",
       "    <tr>\n",
       "      <th>1</th>\n",
       "      <td>2017-01-02 23:30:00</td>\n",
       "      <td>226</td>\n",
       "      <td>SCEL</td>\n",
       "      <td>KMIA</td>\n",
       "      <td>AAL</td>\n",
       "      <td>2017-01-02 23:39:00</td>\n",
       "      <td>226</td>\n",
       "      <td>SCEL</td>\n",
       "      <td>KMIA</td>\n",
       "      <td>AAL</td>\n",
       "      <td>...</td>\n",
       "      <td>Lunes</td>\n",
       "      <td>I</td>\n",
       "      <td>American Airlines</td>\n",
       "      <td>Santiago</td>\n",
       "      <td>Miami</td>\n",
       "      <td>2017-01-02</td>\n",
       "      <td>23:39:00</td>\n",
       "      <td>1</td>\n",
       "      <td>0 days 00:09:00</td>\n",
       "      <td>0</td>\n",
       "    </tr>\n",
       "    <tr>\n",
       "      <th>2</th>\n",
       "      <td>2017-01-03 23:30:00</td>\n",
       "      <td>226</td>\n",
       "      <td>SCEL</td>\n",
       "      <td>KMIA</td>\n",
       "      <td>AAL</td>\n",
       "      <td>2017-01-03 23:39:00</td>\n",
       "      <td>226</td>\n",
       "      <td>SCEL</td>\n",
       "      <td>KMIA</td>\n",
       "      <td>AAL</td>\n",
       "      <td>...</td>\n",
       "      <td>Martes</td>\n",
       "      <td>I</td>\n",
       "      <td>American Airlines</td>\n",
       "      <td>Santiago</td>\n",
       "      <td>Miami</td>\n",
       "      <td>2017-01-03</td>\n",
       "      <td>23:39:00</td>\n",
       "      <td>1</td>\n",
       "      <td>0 days 00:09:00</td>\n",
       "      <td>0</td>\n",
       "    </tr>\n",
       "    <tr>\n",
       "      <th>3</th>\n",
       "      <td>2017-01-04 23:30:00</td>\n",
       "      <td>226</td>\n",
       "      <td>SCEL</td>\n",
       "      <td>KMIA</td>\n",
       "      <td>AAL</td>\n",
       "      <td>2017-01-04 23:33:00</td>\n",
       "      <td>226</td>\n",
       "      <td>SCEL</td>\n",
       "      <td>KMIA</td>\n",
       "      <td>AAL</td>\n",
       "      <td>...</td>\n",
       "      <td>Miercoles</td>\n",
       "      <td>I</td>\n",
       "      <td>American Airlines</td>\n",
       "      <td>Santiago</td>\n",
       "      <td>Miami</td>\n",
       "      <td>2017-01-04</td>\n",
       "      <td>23:33:00</td>\n",
       "      <td>1</td>\n",
       "      <td>0 days 00:03:00</td>\n",
       "      <td>0</td>\n",
       "    </tr>\n",
       "    <tr>\n",
       "      <th>4</th>\n",
       "      <td>2017-01-05 23:30:00</td>\n",
       "      <td>226</td>\n",
       "      <td>SCEL</td>\n",
       "      <td>KMIA</td>\n",
       "      <td>AAL</td>\n",
       "      <td>2017-01-05 23:28:00</td>\n",
       "      <td>226</td>\n",
       "      <td>SCEL</td>\n",
       "      <td>KMIA</td>\n",
       "      <td>AAL</td>\n",
       "      <td>...</td>\n",
       "      <td>Jueves</td>\n",
       "      <td>I</td>\n",
       "      <td>American Airlines</td>\n",
       "      <td>Santiago</td>\n",
       "      <td>Miami</td>\n",
       "      <td>2017-01-05</td>\n",
       "      <td>23:28:00</td>\n",
       "      <td>1</td>\n",
       "      <td>-1 days +23:58:00</td>\n",
       "      <td>1</td>\n",
       "    </tr>\n",
       "  </tbody>\n",
       "</table>\n",
       "<p>5 rows × 23 columns</p>\n",
       "</div>"
      ],
      "text/plain": [
       "              Fecha-I Vlo-I Ori-I Des-I Emp-I             Fecha-O Vlo-O Ori-O  \\\n",
       "0 2017-01-01 23:30:00   226  SCEL  KMIA   AAL 2017-01-01 23:33:00   226  SCEL   \n",
       "1 2017-01-02 23:30:00   226  SCEL  KMIA   AAL 2017-01-02 23:39:00   226  SCEL   \n",
       "2 2017-01-03 23:30:00   226  SCEL  KMIA   AAL 2017-01-03 23:39:00   226  SCEL   \n",
       "3 2017-01-04 23:30:00   226  SCEL  KMIA   AAL 2017-01-04 23:33:00   226  SCEL   \n",
       "4 2017-01-05 23:30:00   226  SCEL  KMIA   AAL 2017-01-05 23:28:00   226  SCEL   \n",
       "\n",
       "  Des-O Emp-O  ...     DIANOM  TIPOVUELO              OPERA  SIGLAORI  \\\n",
       "0  KMIA   AAL  ...    Domingo          I  American Airlines  Santiago   \n",
       "1  KMIA   AAL  ...      Lunes          I  American Airlines  Santiago   \n",
       "2  KMIA   AAL  ...     Martes          I  American Airlines  Santiago   \n",
       "3  KMIA   AAL  ...  Miercoles          I  American Airlines  Santiago   \n",
       "4  KMIA   AAL  ...     Jueves          I  American Airlines  Santiago   \n",
       "\n",
       "  SIGLADES Fecha-O-split Hora-O-split temporada_alta           dif_min  \\\n",
       "0    Miami    2017-01-01     23:33:00              1   0 days 00:03:00   \n",
       "1    Miami    2017-01-02     23:39:00              1   0 days 00:09:00   \n",
       "2    Miami    2017-01-03     23:39:00              1   0 days 00:09:00   \n",
       "3    Miami    2017-01-04     23:33:00              1   0 days 00:03:00   \n",
       "4    Miami    2017-01-05     23:28:00              1 -1 days +23:58:00   \n",
       "\n",
       "  atraso_15  \n",
       "0         0  \n",
       "1         0  \n",
       "2         0  \n",
       "3         0  \n",
       "4         1  \n",
       "\n",
       "[5 rows x 23 columns]"
      ]
     },
     "execution_count": 53,
     "metadata": {},
     "output_type": "execute_result"
    }
   ],
   "source": [
    "data['atraso_15'] = np.where(data['dif_min'].dt.seconds/60. > 15, 1,0)\n",
    "data.head()"
   ]
  },
  {
   "cell_type": "markdown",
   "id": "118c90aa",
   "metadata": {},
   "source": [
    "### periodo_dia : mañana (entre 5:00 y 11:59), tarde (entre 12:00 y 18:59) y noche (entre 19:00 y 4:59), en base a Fecha-I ."
   ]
  },
  {
   "cell_type": "code",
   "execution_count": 54,
   "id": "13980408",
   "metadata": {},
   "outputs": [
    {
     "name": "stdout",
     "output_type": "stream",
     "text": [
      "              Fecha-I Vlo-I Ori-I Des-I Emp-I             Fecha-O Vlo-O Ori-O  \\\n",
      "0 2017-01-01 23:30:00   226  SCEL  KMIA   AAL 2017-01-01 23:33:00   226  SCEL   \n",
      "1 2017-01-02 23:30:00   226  SCEL  KMIA   AAL 2017-01-02 23:39:00   226  SCEL   \n",
      "2 2017-01-03 23:30:00   226  SCEL  KMIA   AAL 2017-01-03 23:39:00   226  SCEL   \n",
      "3 2017-01-04 23:30:00   226  SCEL  KMIA   AAL 2017-01-04 23:33:00   226  SCEL   \n",
      "4 2017-01-05 23:30:00   226  SCEL  KMIA   AAL 2017-01-05 23:28:00   226  SCEL   \n",
      "\n",
      "  Des-O Emp-O  ...  TIPOVUELO              OPERA  SIGLAORI SIGLADES  \\\n",
      "0  KMIA   AAL  ...          I  American Airlines  Santiago    Miami   \n",
      "1  KMIA   AAL  ...          I  American Airlines  Santiago    Miami   \n",
      "2  KMIA   AAL  ...          I  American Airlines  Santiago    Miami   \n",
      "3  KMIA   AAL  ...          I  American Airlines  Santiago    Miami   \n",
      "4  KMIA   AAL  ...          I  American Airlines  Santiago    Miami   \n",
      "\n",
      "  Fecha-O-split Hora-O-split temporada_alta           dif_min atraso_15  \\\n",
      "0    2017-01-01     23:33:00              1   0 days 00:03:00         0   \n",
      "1    2017-01-02     23:39:00              1   0 days 00:09:00         0   \n",
      "2    2017-01-03     23:39:00              1   0 days 00:09:00         0   \n",
      "3    2017-01-04     23:33:00              1   0 days 00:03:00         0   \n",
      "4    2017-01-05     23:28:00              1 -1 days +23:58:00         1   \n",
      "\n",
      "  periodo_dia  \n",
      "0       noche  \n",
      "1       noche  \n",
      "2       noche  \n",
      "3       noche  \n",
      "4       noche  \n",
      "\n",
      "[5 rows x 24 columns]\n"
     ]
    }
   ],
   "source": [
    "import datetime\n",
    "\n",
    "data['periodo_dia'] = np.where( (data['Fecha-I'].dt.time > datetime.time(5,0,0)) & (data['Fecha-I'].dt.time < datetime.time(12,0,0)) , 'mañana', '')\n",
    "        \n",
    "ntarde = np.where( (data['Fecha-I'].dt.time > datetime.time(12,0,0)) & (data['Fecha-I'].dt.time < datetime.time(18,0,0)))\n",
    "nnoche = np.where( (data['Fecha-I'].dt.time > datetime.time(18,0,0)) | ((data['Fecha-I'].dt.time > datetime.time(0,0,0) )& (data['Fecha-I'].dt.time < datetime.time(4,59,59)))) \n",
    "for i in ntarde:\n",
    "    data.loc[i, 'periodo_dia'] = 'tarde'\n",
    "for i in nnoche:\n",
    "    data.loc[i, 'periodo_dia'] = 'noche'\n",
    "print(data.head())\n",
    "data.to_csv('synthetic_features.csv')\n"
   ]
  },
  {
   "cell_type": "markdown",
   "id": "5aee1a2c",
   "metadata": {},
   "source": [
    "## 3 ) ¿Cómo se compone la tasa de atraso por destino, aerolínea, mes del año, día de la semana, temporada, tipo de vuelo?\n",
    "\n",
    "definiendo la tasa de atraso como\n",
    "\n",
    "$Tasa \\; de \\; atraso = \\frac{Número \\;de \\; vuelos \\; atrasados \\; por \\; variable}{Número \\; total \\; de \\; vuelos \\; por \\; vatiable}$\n",
    "\n",
    "donde el numerador corresponde al número de vuelos de cada variable etiquetados con un 1 en la columna atraso_15 creada en el paso anterior"
   ]
  },
  {
   "cell_type": "code",
   "execution_count": 69,
   "id": "0ced8c8c",
   "metadata": {},
   "outputs": [
    {
     "name": "stdout",
     "output_type": "stream",
     "text": [
      "0.44800588255051266\n",
      "0.476056474751318\n"
     ]
    },
    {
     "data": {
      "image/png": "[encoded data removed]",
      "text/plain": [
       "<Figure size 864x288 with 1 Axes>"
      ]
     },
     "metadata": {
      "needs_background": "light"
     },
     "output_type": "display_data"
    }
   ],
   "source": [
    "import matplotlib.pyplot as plt\n",
    "data = pd.read_csv('synthetic_features.csv')\n",
    "variables = data['SIGLADES'].unique()\n",
    "\n",
    "var,tasa   = [], []\n",
    "\n",
    "for i in variables:\n",
    "    var.append(i)\n",
    "    variable = data[data['SIGLADES'] == str(i)]\n",
    "    atraso  = variable[variable['atraso_15'] == 1]\n",
    "    lendes = len(variable['Fecha-I'])\n",
    "    lenatr = len(atraso['Fecha-I'])\n",
    "    tasa.append(lenatr/lendes)\n",
    "#print(des,tasa)\n",
    "\n",
    "mediana = np.median(tasa)\n",
    "promedio = np.mean(tasa)\n",
    "\n",
    "print(mediana)\n",
    "print(promedio)\n",
    "fig = plt.figure(figsize = (12,4))\n",
    "\n",
    "plt.bar(var, tasa, color = 'r', alpha = 0.5)\n",
    "plt.xlabel('Destino')\n",
    "plt.ylabel('Tasa de atraso')\n",
    "plt.xticks(rotation='vertical')\n",
    "\n",
    "plt.show()"
   ]
  },
  {
   "cell_type": "markdown",
   "id": "448ed629",
   "metadata": {},
   "source": [
    "La tasa de atraso varía bastante según el destino del vuelo. Los valores que llegan a tener una tasa de atras igual a 1 es porque solo cuentan con un vuelo y este se atrasó más de 15 minutos. El valor medio de la tasa de atraso es 0.44. Elegí la media, es más resistente a outliers."
   ]
  },
  {
   "cell_type": "code",
   "execution_count": 70,
   "id": "ebb05ed6",
   "metadata": {
    "scrolled": true
   },
   "outputs": [
    {
     "name": "stdout",
     "output_type": "stream",
     "text": [
      "0.6201117318435754\n",
      "0.601751173745405\n"
     ]
    },
    {
     "data": {
      "image/png": "[encoded data removed]",
      "text/plain": [
       "<Figure size 432x288 with 1 Axes>"
      ]
     },
     "metadata": {
      "needs_background": "light"
     },
     "output_type": "display_data"
    }
   ],
   "source": [
    "variables = data['OPERA'].unique()\n",
    "\n",
    "var,tasa   = [], []\n",
    "\n",
    "for i in variables:\n",
    "    var.append(i)\n",
    "    variable = data[data['OPERA'] == str(i)]\n",
    "    atraso  = variable[variable['atraso_15'] == 1]\n",
    "    lendes = len(variable['Fecha-I'])\n",
    "    lenatr = len(atraso['Fecha-I'])\n",
    "    tasa.append(lenatr/lendes)\n",
    "\n",
    "mediana = np.median(tasa)\n",
    "promedio = np.mean(tasa)\n",
    "\n",
    "print(mediana)\n",
    "print(promedio)\n",
    "fig = plt.figure(figsize = (6,4))\n",
    "\n",
    "plt.bar(var, tasa, color = 'b', alpha = 0.5)\n",
    "plt.xlabel('Aerolinea')\n",
    "plt.ylabel('Tasa de atraso')\n",
    "plt.xticks(rotation='vertical')\n",
    "plt.show()"
   ]
  },
  {
   "cell_type": "markdown",
   "id": "8dd24250",
   "metadata": {},
   "source": [
    "La tasa de atraso varía bastante según la aerolínea. La mediana de la tasa de atraso es 0.62. Grupo LATAM presenta la tasa de atraso más baja, mientras que United Airlines tiene la tasa más alta, seguida por Aeromexico y Gold Trans"
   ]
  },
  {
   "cell_type": "code",
   "execution_count": 71,
   "id": "050b5f5e",
   "metadata": {},
   "outputs": [
    {
     "name": "stdout",
     "output_type": "stream",
     "text": [
      "0.44844834626378116\n",
      "0.44761090449966545\n"
     ]
    },
    {
     "data": {
      "image/png": "[encoded data removed]",
      "text/plain": [
       "<Figure size 432x288 with 1 Axes>"
      ]
     },
     "metadata": {
      "needs_background": "light"
     },
     "output_type": "display_data"
    }
   ],
   "source": [
    "variables = data['DIANOM'].unique()\n",
    "\n",
    "var,tasa   = [], []\n",
    "\n",
    "for i in variables:\n",
    "    var.append(i)\n",
    "    variable = data[data['DIANOM'] == str(i)]\n",
    "    atraso  = variable[variable['atraso_15'] == 1]\n",
    "    lendes = len(variable['Fecha-I'])\n",
    "    lenatr = len(atraso['Fecha-I'])\n",
    "    tasa.append(lenatr/lendes)\n",
    "mediana = np.median(tasa)\n",
    "promedio = np.mean(tasa)\n",
    "\n",
    "print(mediana)\n",
    "print(promedio)\n",
    "#print(des,tasa)\n",
    "fig = plt.figure(figsize = (6,4))\n",
    "\n",
    "plt.bar(var, tasa, color = 'g', alpha = 0.5)\n",
    "plt.xlabel('Día de la semana')\n",
    "plt.ylabel('Tasa de atraso')\n",
    "plt.xticks(rotation='vertical')\n",
    "plt.show()"
   ]
  },
  {
   "cell_type": "markdown",
   "id": "082eb0bd",
   "metadata": {},
   "source": [
    "La tasa de atraso es constante para los días de la semana"
   ]
  },
  {
   "cell_type": "code",
   "execution_count": 74,
   "id": "78acef1c",
   "metadata": {},
   "outputs": [
    {
     "name": "stdout",
     "output_type": "stream",
     "text": [
      "0.44780508540243\n",
      "0.44780508540243\n"
     ]
    },
    {
     "data": {
      "image/png": "[encoded data removed]",
      "text/plain": [
       "<Figure size 432x288 with 1 Axes>"
      ]
     },
     "metadata": {
      "needs_background": "light"
     },
     "output_type": "display_data"
    }
   ],
   "source": [
    "variables = data['temporada_alta'].unique()\n",
    "\n",
    "var,tasa   = [], []\n",
    "\n",
    "for i in variables:\n",
    "    var.append(i)\n",
    "    variable = data[data['temporada_alta'] == i]\n",
    "    atraso  = variable[variable['atraso_15'] == 1]\n",
    "    lendes = len(variable['Fecha-I'])\n",
    "    lenatr = len(atraso['Fecha-I'])\n",
    "    tasa.append(lenatr/lendes)\n",
    "    \n",
    "mediana = np.median(tasa)\n",
    "promedio = np.mean(tasa)\n",
    "\n",
    "print(mediana)\n",
    "print(promedio)\n",
    "#print(des,tasa)\n",
    "fig = plt.figure(figsize = (6,4))\n",
    "\n",
    "plt.bar(var, tasa, color = 'm', alpha = 0.5)\n",
    "plt.xlabel('Temporada')\n",
    "plt.ylabel('Tasa de atraso')\n",
    "plt.xticks([1,0], ['alta','baja'])\n",
    "#plt.xticks(['alta','baja'],rotation='vertical')\n",
    "plt.show()"
   ]
  },
  {
   "cell_type": "markdown",
   "id": "301d1d3f",
   "metadata": {},
   "source": [
    "La tasa de atraso es constante en dstintas temporadas"
   ]
  },
  {
   "cell_type": "code",
   "execution_count": 66,
   "id": "3a982bc9",
   "metadata": {},
   "outputs": [
    {
     "data": {
      "image/png": "[encoded data removed]",
      "text/plain": [
       "<Figure size 432x288 with 1 Axes>"
      ]
     },
     "metadata": {
      "needs_background": "light"
     },
     "output_type": "display_data"
    }
   ],
   "source": [
    "variables = data['TIPOVUELO'].unique()\n",
    "\n",
    "var,tasa   = [], []\n",
    "\n",
    "for i in variables:\n",
    "    var.append(i)\n",
    "    variable = data[data['TIPOVUELO'] == i]\n",
    "    atraso  = variable[variable['atraso_15'] == 1]\n",
    "    lendes = len(variable['Fecha-I'])\n",
    "    lenatr = len(atraso['Fecha-I'])\n",
    "    tasa.append(lenatr/lendes)\n",
    "#print(des,tasa)\n",
    "fig = plt.figure(figsize = (6,4))\n",
    "\n",
    "plt.bar(var, tasa, color = 'c', alpha = 0.5)\n",
    "plt.xlabel('Tipo de vuelo')\n",
    "plt.ylabel('Tasa de atraso')\n",
    "plt.xticks([1,0], ['Nacional','Internacional'])\n",
    "#plt.xticks(['alta','baja'],rotation='vertical')\n",
    "plt.show()"
   ]
  },
  {
   "cell_type": "markdown",
   "id": "7fb174a1",
   "metadata": {},
   "source": [
    "La tasa de atraso es mayor en los vuelos internacionales"
   ]
  },
  {
   "cell_type": "markdown",
   "id": "50f51f3a",
   "metadata": {},
   "source": [
    "### ¿Qué variables esperarías que más influyeran en predecir atrasos?"
   ]
  },
  {
   "cell_type": "markdown",
   "id": "9020c2f4",
   "metadata": {},
   "source": [
    "Según el análisis anterior esperaría que de las variables que influyan más en un modelo que prediga la probabilidad de atraso de los vuelos sean el destino de vuelo, la aerolinea y el tipo de vuelo, ya que presentan mayor dependencia con la tasa de atraso."
   ]
  },
  {
   "cell_type": "code",
   "execution_count": null,
   "id": "c3d2663b",
   "metadata": {},
   "outputs": [],
   "source": []
  },
  {
   "cell_type": "code",
   "execution_count": null,
   "id": "a1e688f1",
   "metadata": {},
   "outputs": [],
   "source": []
  },
  {
   "cell_type": "code",
   "execution_count": null,
   "id": "9ee61a81",
   "metadata": {},
   "outputs": [],
   "source": []
  },
  {
   "cell_type": "code",
   "execution_count": null,
   "id": "0d57f6f2",
   "metadata": {},
   "outputs": [],
   "source": []
  },
  {
   "cell_type": "code",
   "execution_count": null,
   "id": "c1e367a2",
   "metadata": {},
   "outputs": [],
   "source": []
  },
  {
   "cell_type": "code",
   "execution_count": null,
   "id": "297e34d0",
   "metadata": {},
   "outputs": [],
   "source": []
  },
  {
   "cell_type": "code",
   "execution_count": null,
   "id": "426fc9cd",
   "metadata": {},
   "outputs": [],
   "source": []
  },
  {
   "cell_type": "code",
   "execution_count": null,
   "id": "921e0e30",
   "metadata": {},
   "outputs": [],
   "source": []
  },
  {
   "cell_type": "code",
   "execution_count": null,
   "id": "c18f66ec",
   "metadata": {},
   "outputs": [],
   "source": []
  }
 ],
 "metadata": {
  "kernelspec": {
   "display_name": "Python 3",
   "language": "python",
   "name": "python3"
  },
  "language_info": {
   "codemirror_mode": {
    "name": "ipython",
    "version": 3
   },
   "file_extension": ".py",
   "mimetype": "text/x-python",
   "name": "python",
   "nbconvert_exporter": "python",
   "pygments_lexer": "ipython3",
   "version": "3.7.6"
  }
 },
 "nbformat": 4,
 "nbformat_minor": 5
}
